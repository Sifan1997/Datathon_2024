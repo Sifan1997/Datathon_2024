{
 "cells": [
  {
   "cell_type": "code",
   "execution_count": 160,
   "id": "initial_id",
   "metadata": {
    "collapsed": true,
    "ExecuteTime": {
     "end_time": "2024-02-18T17:20:42.884275Z",
     "start_time": "2024-02-18T17:20:42.846863Z"
    }
   },
   "outputs": [],
   "source": [
    "import pandas as pd"
   ]
  },
  {
   "cell_type": "code",
   "execution_count": 161,
   "outputs": [
    {
     "data": {
      "text/plain": "        mission_id     t0_date  duration_t3-t0 eventtype_code eventlevel  \\\n0      21221530192  2022-07-15             NaN           P003         N1   \n1      21221530192  2022-07-15             NaN           P003         N1   \n2      21221530420  2022-06-02        9.833333           P003         N1   \n3      21221530420  2022-06-02        9.833333           P003         N1   \n4      21221540122  2022-06-03       15.050000           P003         N1   \n...            ...         ...             ...            ...        ...   \n12281  50221900691  2022-07-09        4.936883           P003         N2   \n12282  50221900691  2022-07-09       17.369467           P003         N2   \n12283  50221910287  2022-07-10        7.557850           P003         N1   \n12284  50221910483  2022-07-10       15.029300           P003         N1   \n12285  50221910483  2022-07-10       15.822567           P003         N1   \n\n      province  postalcode_intervention        lat       lon abandon_reason  \n0          NaN                      NaN  50.928019  4.535123            NaN  \n1          NaN                      NaN  50.928019  4.535123            NaN  \n2          NaN                      NaN  50.767029  4.273000            NaN  \n3          NaN                      NaN  50.767029  4.273000            NaN  \n4          NaN                      NaN  50.898349  4.755029            NaN  \n...        ...                      ...        ...       ...            ...  \n12281      HAI                      NaN  50.467630  4.104320            NaN  \n12282      HAI                      NaN  50.467630  4.104320            NaN  \n12283      HAI                      NaN  50.038540  4.263650      Overleden  \n12284      HAI                      NaN  50.535940  4.246450      Overleden  \n12285      HAI                      NaN  50.535940  4.246450            NaN  \n\n[12286 rows x 10 columns]",
      "text/html": "<div>\n<style scoped>\n    .dataframe tbody tr th:only-of-type {\n        vertical-align: middle;\n    }\n\n    .dataframe tbody tr th {\n        vertical-align: top;\n    }\n\n    .dataframe thead th {\n        text-align: right;\n    }\n</style>\n<table border=\"1\" class=\"dataframe\">\n  <thead>\n    <tr style=\"text-align: right;\">\n      <th></th>\n      <th>mission_id</th>\n      <th>t0_date</th>\n      <th>duration_t3-t0</th>\n      <th>eventtype_code</th>\n      <th>eventlevel</th>\n      <th>province</th>\n      <th>postalcode_intervention</th>\n      <th>lat</th>\n      <th>lon</th>\n      <th>abandon_reason</th>\n    </tr>\n  </thead>\n  <tbody>\n    <tr>\n      <th>0</th>\n      <td>21221530192</td>\n      <td>2022-07-15</td>\n      <td>NaN</td>\n      <td>P003</td>\n      <td>N1</td>\n      <td>NaN</td>\n      <td>NaN</td>\n      <td>50.928019</td>\n      <td>4.535123</td>\n      <td>NaN</td>\n    </tr>\n    <tr>\n      <th>1</th>\n      <td>21221530192</td>\n      <td>2022-07-15</td>\n      <td>NaN</td>\n      <td>P003</td>\n      <td>N1</td>\n      <td>NaN</td>\n      <td>NaN</td>\n      <td>50.928019</td>\n      <td>4.535123</td>\n      <td>NaN</td>\n    </tr>\n    <tr>\n      <th>2</th>\n      <td>21221530420</td>\n      <td>2022-06-02</td>\n      <td>9.833333</td>\n      <td>P003</td>\n      <td>N1</td>\n      <td>NaN</td>\n      <td>NaN</td>\n      <td>50.767029</td>\n      <td>4.273000</td>\n      <td>NaN</td>\n    </tr>\n    <tr>\n      <th>3</th>\n      <td>21221530420</td>\n      <td>2022-06-02</td>\n      <td>9.833333</td>\n      <td>P003</td>\n      <td>N1</td>\n      <td>NaN</td>\n      <td>NaN</td>\n      <td>50.767029</td>\n      <td>4.273000</td>\n      <td>NaN</td>\n    </tr>\n    <tr>\n      <th>4</th>\n      <td>21221540122</td>\n      <td>2022-06-03</td>\n      <td>15.050000</td>\n      <td>P003</td>\n      <td>N1</td>\n      <td>NaN</td>\n      <td>NaN</td>\n      <td>50.898349</td>\n      <td>4.755029</td>\n      <td>NaN</td>\n    </tr>\n    <tr>\n      <th>...</th>\n      <td>...</td>\n      <td>...</td>\n      <td>...</td>\n      <td>...</td>\n      <td>...</td>\n      <td>...</td>\n      <td>...</td>\n      <td>...</td>\n      <td>...</td>\n      <td>...</td>\n    </tr>\n    <tr>\n      <th>12281</th>\n      <td>50221900691</td>\n      <td>2022-07-09</td>\n      <td>4.936883</td>\n      <td>P003</td>\n      <td>N2</td>\n      <td>HAI</td>\n      <td>NaN</td>\n      <td>50.467630</td>\n      <td>4.104320</td>\n      <td>NaN</td>\n    </tr>\n    <tr>\n      <th>12282</th>\n      <td>50221900691</td>\n      <td>2022-07-09</td>\n      <td>17.369467</td>\n      <td>P003</td>\n      <td>N2</td>\n      <td>HAI</td>\n      <td>NaN</td>\n      <td>50.467630</td>\n      <td>4.104320</td>\n      <td>NaN</td>\n    </tr>\n    <tr>\n      <th>12283</th>\n      <td>50221910287</td>\n      <td>2022-07-10</td>\n      <td>7.557850</td>\n      <td>P003</td>\n      <td>N1</td>\n      <td>HAI</td>\n      <td>NaN</td>\n      <td>50.038540</td>\n      <td>4.263650</td>\n      <td>Overleden</td>\n    </tr>\n    <tr>\n      <th>12284</th>\n      <td>50221910483</td>\n      <td>2022-07-10</td>\n      <td>15.029300</td>\n      <td>P003</td>\n      <td>N1</td>\n      <td>HAI</td>\n      <td>NaN</td>\n      <td>50.535940</td>\n      <td>4.246450</td>\n      <td>Overleden</td>\n    </tr>\n    <tr>\n      <th>12285</th>\n      <td>50221910483</td>\n      <td>2022-07-10</td>\n      <td>15.822567</td>\n      <td>P003</td>\n      <td>N1</td>\n      <td>HAI</td>\n      <td>NaN</td>\n      <td>50.535940</td>\n      <td>4.246450</td>\n      <td>NaN</td>\n    </tr>\n  </tbody>\n</table>\n<p>12286 rows × 10 columns</p>\n</div>"
     },
     "execution_count": 161,
     "metadata": {},
     "output_type": "execute_result"
    }
   ],
   "source": [
    "ca_loc = pd.read_csv('/Users/ouharuhua/Desktop/Datathon_2024/Processed/interventions_ca_geoloc.csv')\n",
    "ca_loc.rename(columns={'latitude_intervention': 'lat', 'longitude_intervention': 'lon', 'province_intervention': 'province'}, inplace=True)\n",
    "\n",
    "# Drop rows with NaN values in latitude or longitude\n",
    "ca_loc = ca_loc.dropna(subset=['lat', 'lon'])\n",
    "\n",
    "ca_loc"
   ],
   "metadata": {
    "collapsed": false,
    "ExecuteTime": {
     "end_time": "2024-02-18T17:20:42.901979Z",
     "start_time": "2024-02-18T17:20:42.870957Z"
    }
   },
   "id": "7c50e1ae3b583144"
  },
  {
   "cell_type": "code",
   "execution_count": 162,
   "outputs": [],
   "source": [
    "import folium\n",
    "import geopandas as gpd\n",
    "\n",
    "# Read the GeoJSON file using geopandas\n",
    "# geojson_path = '/content/drive/MyDrive/Data/Politiezones.json'\n",
    "geojson_path = '/Users/ouharuhua/Desktop/Datathon_2024/Processed/Belgium.provinces.WGS84.geojson'\n",
    "gdf = gpd.read_file(geojson_path)\n"
   ],
   "metadata": {
    "collapsed": false,
    "ExecuteTime": {
     "end_time": "2024-02-18T17:20:42.929617Z",
     "start_time": "2024-02-18T17:20:42.896207Z"
    }
   },
   "id": "cfb248c6a9d6ef89"
  },
  {
   "cell_type": "code",
   "execution_count": 163,
   "outputs": [
    {
     "data": {
      "text/plain": "    RecId  Version AdPrKey AdReKey AdCoKey                          NameFRE  \\\n0     301        1   04000   04000   01000     Région de Bruxelles-Capitale   \n1     302        1   10000   02000   01000                Province d’Anvers   \n2     303        1   20001   02000   01000      Province du Brabant flamand   \n3     304        1   20002   03000   01000       Province du Brabant wallon   \n4     305        1   30000   02000   01000  Province de Flandre occidentale   \n5     306        1   40000   02000   01000    Province de Flandre orientale   \n6     307        1   50000   03000   01000              Province de Hainaut   \n7     308        1   60000   03000   01000                Province de Liège   \n8     309        1   70000   02000   01000             Province de Limbourg   \n9     310        1   80000   03000   01000           Province de Luxembourg   \n10    311        1   90000   03000   01000                Province de Namur   \n\n                           NameDUT                     NameGER  FiscSitId  \\\n0   Brussels Hoofdstedelijk Gewest   Region Brüssel-Hauptstadt          5   \n1              Provincie Antwerpen           Provinz Antwerpen          5   \n2         Provincie Vlaams-Brabant    Provinz Flämisch-Brabant          5   \n3          Provincie Waals-Brabant  Provinz Wallonisch-Brabant          5   \n4        Provincie West-Vlaanderen        Provinz Westflandern          5   \n5        Provincie Oost-Vlaanderen         Provinz Ostflandern          5   \n6             Provincie Henegouwen            Provinz Hennegau          5   \n7                   Provincie Luik             Provinz Lüttich          5   \n8                Provincie Limburg           Provincie Limburg          5   \n9              Provincie Luxemburg          Provinz Luxembourg          5   \n10                 Provincie Namen               Provinz Namur          5   \n\n                     UpdDate  Stat_Area     Shape_Leng    Shape_Area  \\\n0  2020-03-26 00:00:00+00:00      16242   72162.139042  1.624198e+08   \n1  2020-03-26 00:00:00+00:00     287612  409230.640917  2.876120e+09   \n2  2020-03-26 00:00:00+00:00     211836  508851.938964  2.118360e+09   \n3  2020-03-26 00:00:00+00:00     109718  285898.405104  1.097184e+09   \n4  2020-03-26 00:00:00+00:00     319658  357083.649169  3.196576e+09   \n5  2020-03-26 00:00:00+00:00     300706  404804.243717  3.007064e+09   \n6  2020-03-26 00:00:00+00:00     381283  679704.608795  3.812832e+09   \n7  2020-03-26 00:00:00+00:00     385710  574836.392063  3.857105e+09   \n8  2020-03-26 00:00:00+00:00     242742  398314.827791  2.427425e+09   \n9  2020-03-26 00:00:00+00:00     445926  542458.940272  4.459264e+09   \n10 2020-03-26 00:00:00+00:00     367477  567474.837346  3.674768e+09   \n\n                                             geometry  \n0   POLYGON ((4.31176 50.79743, 4.33110 50.77551, ...  \n1   MULTIPOLYGON (((5.23796 51.26127, 5.22609 51.2...  \n2   POLYGON ((5.10360 50.70921, 5.10788 50.71839, ...  \n3   POLYGON ((5.01955 50.75072, 5.00348 50.76604, ...  \n4   POLYGON ((3.45892 50.76469, 3.48862 50.78600, ...  \n5   POLYGON ((4.24215 51.35401, 4.16610 51.29283, ...  \n6   MULTIPOLYGON (((3.17814 50.75616, 3.18736 50.7...  \n7   POLYGON ((5.39302 50.37941, 5.39558 50.38374, ...  \n8   MULTIPOLYGON (((5.68796 50.81200, 5.67841 50.8...  \n9   POLYGON ((4.96864 49.80156, 4.99836 49.79956, ...  \n10  POLYGON ((4.43278 49.94175, 4.44552 49.93722, ...  ",
      "text/html": "<div>\n<style scoped>\n    .dataframe tbody tr th:only-of-type {\n        vertical-align: middle;\n    }\n\n    .dataframe tbody tr th {\n        vertical-align: top;\n    }\n\n    .dataframe thead th {\n        text-align: right;\n    }\n</style>\n<table border=\"1\" class=\"dataframe\">\n  <thead>\n    <tr style=\"text-align: right;\">\n      <th></th>\n      <th>RecId</th>\n      <th>Version</th>\n      <th>AdPrKey</th>\n      <th>AdReKey</th>\n      <th>AdCoKey</th>\n      <th>NameFRE</th>\n      <th>NameDUT</th>\n      <th>NameGER</th>\n      <th>FiscSitId</th>\n      <th>UpdDate</th>\n      <th>Stat_Area</th>\n      <th>Shape_Leng</th>\n      <th>Shape_Area</th>\n      <th>geometry</th>\n    </tr>\n  </thead>\n  <tbody>\n    <tr>\n      <th>0</th>\n      <td>301</td>\n      <td>1</td>\n      <td>04000</td>\n      <td>04000</td>\n      <td>01000</td>\n      <td>Région de Bruxelles-Capitale</td>\n      <td>Brussels Hoofdstedelijk Gewest</td>\n      <td>Region Brüssel-Hauptstadt</td>\n      <td>5</td>\n      <td>2020-03-26 00:00:00+00:00</td>\n      <td>16242</td>\n      <td>72162.139042</td>\n      <td>1.624198e+08</td>\n      <td>POLYGON ((4.31176 50.79743, 4.33110 50.77551, ...</td>\n    </tr>\n    <tr>\n      <th>1</th>\n      <td>302</td>\n      <td>1</td>\n      <td>10000</td>\n      <td>02000</td>\n      <td>01000</td>\n      <td>Province d’Anvers</td>\n      <td>Provincie Antwerpen</td>\n      <td>Provinz Antwerpen</td>\n      <td>5</td>\n      <td>2020-03-26 00:00:00+00:00</td>\n      <td>287612</td>\n      <td>409230.640917</td>\n      <td>2.876120e+09</td>\n      <td>MULTIPOLYGON (((5.23796 51.26127, 5.22609 51.2...</td>\n    </tr>\n    <tr>\n      <th>2</th>\n      <td>303</td>\n      <td>1</td>\n      <td>20001</td>\n      <td>02000</td>\n      <td>01000</td>\n      <td>Province du Brabant flamand</td>\n      <td>Provincie Vlaams-Brabant</td>\n      <td>Provinz Flämisch-Brabant</td>\n      <td>5</td>\n      <td>2020-03-26 00:00:00+00:00</td>\n      <td>211836</td>\n      <td>508851.938964</td>\n      <td>2.118360e+09</td>\n      <td>POLYGON ((5.10360 50.70921, 5.10788 50.71839, ...</td>\n    </tr>\n    <tr>\n      <th>3</th>\n      <td>304</td>\n      <td>1</td>\n      <td>20002</td>\n      <td>03000</td>\n      <td>01000</td>\n      <td>Province du Brabant wallon</td>\n      <td>Provincie Waals-Brabant</td>\n      <td>Provinz Wallonisch-Brabant</td>\n      <td>5</td>\n      <td>2020-03-26 00:00:00+00:00</td>\n      <td>109718</td>\n      <td>285898.405104</td>\n      <td>1.097184e+09</td>\n      <td>POLYGON ((5.01955 50.75072, 5.00348 50.76604, ...</td>\n    </tr>\n    <tr>\n      <th>4</th>\n      <td>305</td>\n      <td>1</td>\n      <td>30000</td>\n      <td>02000</td>\n      <td>01000</td>\n      <td>Province de Flandre occidentale</td>\n      <td>Provincie West-Vlaanderen</td>\n      <td>Provinz Westflandern</td>\n      <td>5</td>\n      <td>2020-03-26 00:00:00+00:00</td>\n      <td>319658</td>\n      <td>357083.649169</td>\n      <td>3.196576e+09</td>\n      <td>POLYGON ((3.45892 50.76469, 3.48862 50.78600, ...</td>\n    </tr>\n    <tr>\n      <th>5</th>\n      <td>306</td>\n      <td>1</td>\n      <td>40000</td>\n      <td>02000</td>\n      <td>01000</td>\n      <td>Province de Flandre orientale</td>\n      <td>Provincie Oost-Vlaanderen</td>\n      <td>Provinz Ostflandern</td>\n      <td>5</td>\n      <td>2020-03-26 00:00:00+00:00</td>\n      <td>300706</td>\n      <td>404804.243717</td>\n      <td>3.007064e+09</td>\n      <td>POLYGON ((4.24215 51.35401, 4.16610 51.29283, ...</td>\n    </tr>\n    <tr>\n      <th>6</th>\n      <td>307</td>\n      <td>1</td>\n      <td>50000</td>\n      <td>03000</td>\n      <td>01000</td>\n      <td>Province de Hainaut</td>\n      <td>Provincie Henegouwen</td>\n      <td>Provinz Hennegau</td>\n      <td>5</td>\n      <td>2020-03-26 00:00:00+00:00</td>\n      <td>381283</td>\n      <td>679704.608795</td>\n      <td>3.812832e+09</td>\n      <td>MULTIPOLYGON (((3.17814 50.75616, 3.18736 50.7...</td>\n    </tr>\n    <tr>\n      <th>7</th>\n      <td>308</td>\n      <td>1</td>\n      <td>60000</td>\n      <td>03000</td>\n      <td>01000</td>\n      <td>Province de Liège</td>\n      <td>Provincie Luik</td>\n      <td>Provinz Lüttich</td>\n      <td>5</td>\n      <td>2020-03-26 00:00:00+00:00</td>\n      <td>385710</td>\n      <td>574836.392063</td>\n      <td>3.857105e+09</td>\n      <td>POLYGON ((5.39302 50.37941, 5.39558 50.38374, ...</td>\n    </tr>\n    <tr>\n      <th>8</th>\n      <td>309</td>\n      <td>1</td>\n      <td>70000</td>\n      <td>02000</td>\n      <td>01000</td>\n      <td>Province de Limbourg</td>\n      <td>Provincie Limburg</td>\n      <td>Provincie Limburg</td>\n      <td>5</td>\n      <td>2020-03-26 00:00:00+00:00</td>\n      <td>242742</td>\n      <td>398314.827791</td>\n      <td>2.427425e+09</td>\n      <td>MULTIPOLYGON (((5.68796 50.81200, 5.67841 50.8...</td>\n    </tr>\n    <tr>\n      <th>9</th>\n      <td>310</td>\n      <td>1</td>\n      <td>80000</td>\n      <td>03000</td>\n      <td>01000</td>\n      <td>Province de Luxembourg</td>\n      <td>Provincie Luxemburg</td>\n      <td>Provinz Luxembourg</td>\n      <td>5</td>\n      <td>2020-03-26 00:00:00+00:00</td>\n      <td>445926</td>\n      <td>542458.940272</td>\n      <td>4.459264e+09</td>\n      <td>POLYGON ((4.96864 49.80156, 4.99836 49.79956, ...</td>\n    </tr>\n    <tr>\n      <th>10</th>\n      <td>311</td>\n      <td>1</td>\n      <td>90000</td>\n      <td>03000</td>\n      <td>01000</td>\n      <td>Province de Namur</td>\n      <td>Provincie Namen</td>\n      <td>Provinz Namur</td>\n      <td>5</td>\n      <td>2020-03-26 00:00:00+00:00</td>\n      <td>367477</td>\n      <td>567474.837346</td>\n      <td>3.674768e+09</td>\n      <td>POLYGON ((4.43278 49.94175, 4.44552 49.93722, ...</td>\n    </tr>\n  </tbody>\n</table>\n</div>"
     },
     "execution_count": 163,
     "metadata": {},
     "output_type": "execute_result"
    }
   ],
   "source": [
    "gdf"
   ],
   "metadata": {
    "collapsed": false,
    "ExecuteTime": {
     "end_time": "2024-02-18T17:20:42.932772Z",
     "start_time": "2024-02-18T17:20:42.916716Z"
    }
   },
   "id": "bb25289f5f37c659"
  },
  {
   "cell_type": "code",
   "execution_count": 164,
   "outputs": [
    {
     "data": {
      "text/plain": "NameFRE\nRégion de Bruxelles-Capitale       1\nProvince d’Anvers                  1\nProvince du Brabant flamand        1\nProvince du Brabant wallon         1\nProvince de Flandre occidentale    1\nProvince de Flandre orientale      1\nProvince de Hainaut                1\nProvince de Liège                  1\nProvince de Limbourg               1\nProvince de Luxembourg             1\nProvince de Namur                  1\nName: count, dtype: int64"
     },
     "execution_count": 164,
     "metadata": {},
     "output_type": "execute_result"
    }
   ],
   "source": [
    "gdf.NameFRE.value_counts()"
   ],
   "metadata": {
    "collapsed": false,
    "ExecuteTime": {
     "end_time": "2024-02-18T17:20:42.954459Z",
     "start_time": "2024-02-18T17:20:42.922177Z"
    }
   },
   "id": "fd7c72827eefe37"
  },
  {
   "cell_type": "code",
   "execution_count": 165,
   "outputs": [
    {
     "name": "stdout",
     "output_type": "stream",
     "text": [
      "The location is in Région de Bruxelles-Capitale.\n"
     ]
    }
   ],
   "source": [
    "import geopandas as gpd\n",
    "from shapely.geometry import Point\n",
    "\n",
    "# Assuming gdf_provinces is your GeoDataFrame with Belgian provinces polygons\n",
    "# Replace 'path/to/your/provinces.geojson' with the actual path to your GeoJSON file\n",
    "\n",
    "# Example latitude and longitude\n",
    "latitude = 50.8503\n",
    "longitude = 4.3517\n",
    "\n",
    "# Create a Point geometry from the latitude and longitude\n",
    "point = Point(longitude, latitude)\n",
    "\n",
    "# Check which province the point is in\n",
    "result = gdf[gdf.geometry.contains(point)]\n",
    "\n",
    "# Display the result\n",
    "if not result.empty:\n",
    "    province_name = result.iloc[0,5]  # Replace 'province_name' with the actual column name\n",
    "    print(f\"The location is in {province_name}.\")\n",
    "else:\n",
    "    print(\"The location is not within any province.\")\n"
   ],
   "metadata": {
    "collapsed": false,
    "ExecuteTime": {
     "end_time": "2024-02-18T17:20:42.970994Z",
     "start_time": "2024-02-18T17:20:42.926129Z"
    }
   },
   "id": "6e8e9eb8cd7ea8d8"
  },
  {
   "cell_type": "code",
   "execution_count": 166,
   "outputs": [
    {
     "data": {
      "text/plain": "   RecId  Version AdPrKey AdReKey AdCoKey                       NameFRE  \\\n0    301        1   04000   04000   01000  Région de Bruxelles-Capitale   \n\n                          NameDUT                    NameGER  FiscSitId  \\\n0  Brussels Hoofdstedelijk Gewest  Region Brüssel-Hauptstadt          5   \n\n                    UpdDate  Stat_Area    Shape_Leng    Shape_Area  \\\n0 2020-03-26 00:00:00+00:00      16242  72162.139042  1.624198e+08   \n\n                                            geometry  \n0  POLYGON ((4.31176 50.79743, 4.33110 50.77551, ...  ",
      "text/html": "<div>\n<style scoped>\n    .dataframe tbody tr th:only-of-type {\n        vertical-align: middle;\n    }\n\n    .dataframe tbody tr th {\n        vertical-align: top;\n    }\n\n    .dataframe thead th {\n        text-align: right;\n    }\n</style>\n<table border=\"1\" class=\"dataframe\">\n  <thead>\n    <tr style=\"text-align: right;\">\n      <th></th>\n      <th>RecId</th>\n      <th>Version</th>\n      <th>AdPrKey</th>\n      <th>AdReKey</th>\n      <th>AdCoKey</th>\n      <th>NameFRE</th>\n      <th>NameDUT</th>\n      <th>NameGER</th>\n      <th>FiscSitId</th>\n      <th>UpdDate</th>\n      <th>Stat_Area</th>\n      <th>Shape_Leng</th>\n      <th>Shape_Area</th>\n      <th>geometry</th>\n    </tr>\n  </thead>\n  <tbody>\n    <tr>\n      <th>0</th>\n      <td>301</td>\n      <td>1</td>\n      <td>04000</td>\n      <td>04000</td>\n      <td>01000</td>\n      <td>Région de Bruxelles-Capitale</td>\n      <td>Brussels Hoofdstedelijk Gewest</td>\n      <td>Region Brüssel-Hauptstadt</td>\n      <td>5</td>\n      <td>2020-03-26 00:00:00+00:00</td>\n      <td>16242</td>\n      <td>72162.139042</td>\n      <td>1.624198e+08</td>\n      <td>POLYGON ((4.31176 50.79743, 4.33110 50.77551, ...</td>\n    </tr>\n  </tbody>\n</table>\n</div>"
     },
     "execution_count": 166,
     "metadata": {},
     "output_type": "execute_result"
    }
   ],
   "source": [
    "result"
   ],
   "metadata": {
    "collapsed": false,
    "ExecuteTime": {
     "end_time": "2024-02-18T17:20:42.972980Z",
     "start_time": "2024-02-18T17:20:42.934234Z"
    }
   },
   "id": "d12cce6f65ad3784"
  },
  {
   "cell_type": "code",
   "execution_count": 167,
   "outputs": [],
   "source": [
    "def return_province(lat, lon, gdf):\n",
    "  point = Point(lon, lat)\n",
    "  result = gdf[gdf.geometry.contains(point)]\n",
    "  if not result.empty:\n",
    "    province_name = result.iloc[0,5]  # Replace 'province_name' with the actual column name\n",
    "    return province_name\n",
    "  else:\n",
    "    return False"
   ],
   "metadata": {
    "collapsed": false,
    "ExecuteTime": {
     "end_time": "2024-02-18T17:20:42.989261Z",
     "start_time": "2024-02-18T17:20:42.938181Z"
    }
   },
   "id": "12c5dd5fa5f714e"
  },
  {
   "cell_type": "code",
   "execution_count": 168,
   "outputs": [
    {
     "data": {
      "text/plain": "False"
     },
     "execution_count": 168,
     "metadata": {},
     "output_type": "execute_result"
    }
   ],
   "source": [
    "return_province(50.11, 3.22, gdf)"
   ],
   "metadata": {
    "collapsed": false,
    "ExecuteTime": {
     "end_time": "2024-02-18T17:20:43.015271Z",
     "start_time": "2024-02-18T17:20:42.976379Z"
    }
   },
   "id": "95eae44c8e497cf7"
  },
  {
   "cell_type": "code",
   "execution_count": 169,
   "outputs": [
    {
     "name": "stdout",
     "output_type": "stream",
     "text": [
      "Number of rows with invalid geometry: 1660\n"
     ]
    }
   ],
   "source": [
    "def add_province_column(df, gdf):\n",
    "    \"\"\"\n",
    "    Function to add a 'province' column to the DataFrame based on latitude and longitude coordinates.\n",
    "\n",
    "    Parameters:\n",
    "        df (DataFrame): DataFrame containing latitude and longitude columns.\n",
    "        gdf (GeoDataFrame): GeoDataFrame containing province polygons with a 'geometry' column.\n",
    "\n",
    "    Returns:\n",
    "        DataFrame: DataFrame with the 'province' column added.\n",
    "        int: Number of rows with invalid geometry.\n",
    "    \"\"\"\n",
    "    province_list = []\n",
    "    invalid_geometry_count = 0\n",
    "    for index, row in df.iterrows():\n",
    "        try:\n",
    "            province = return_province(row['lat'], row['lon'], gdf)\n",
    "            province_list.append(province)\n",
    "        except Exception as e:\n",
    "            province_list.append(None)  # Append None when an error occurs\n",
    "            invalid_geometry_count += 1\n",
    "\n",
    "    df['province'] = province_list\n",
    "    return df, invalid_geometry_count\n",
    "\n",
    "# Call the function and store the result in ca_loc with the 'province' column added\n",
    "ca_loc_with_province, invalid_geometry_count = add_province_column(ca_loc, gdf)\n",
    "\n",
    "print(f\"Number of rows with invalid geometry: {invalid_geometry_count}\")\n"
   ],
   "metadata": {
    "collapsed": false,
    "ExecuteTime": {
     "end_time": "2024-02-18T17:20:51.990229Z",
     "start_time": "2024-02-18T17:20:42.995255Z"
    }
   },
   "id": "2b8a1b8b90b608da"
  },
  {
   "cell_type": "code",
   "execution_count": 170,
   "outputs": [
    {
     "name": "stdout",
     "output_type": "stream",
     "text": [
      "<class 'pandas.core.frame.DataFrame'>\n",
      "RangeIndex: 12286 entries, 0 to 12285\n",
      "Data columns (total 10 columns):\n",
      " #   Column                   Non-Null Count  Dtype  \n",
      "---  ------                   --------------  -----  \n",
      " 0   mission_id               12286 non-null  int64  \n",
      " 1   t0_date                  12222 non-null  object \n",
      " 2   duration_t3-t0           10354 non-null  float64\n",
      " 3   eventtype_code           12286 non-null  object \n",
      " 4   eventlevel               12286 non-null  object \n",
      " 5   province                 10626 non-null  object \n",
      " 6   postalcode_intervention  471 non-null    float64\n",
      " 7   lat                      12286 non-null  float64\n",
      " 8   lon                      12286 non-null  float64\n",
      " 9   abandon_reason           2750 non-null   object \n",
      "dtypes: float64(4), int64(1), object(5)\n",
      "memory usage: 960.0+ KB\n"
     ]
    }
   ],
   "source": [
    "ca_loc.info()"
   ],
   "metadata": {
    "collapsed": false,
    "ExecuteTime": {
     "end_time": "2024-02-18T17:20:51.995635Z",
     "start_time": "2024-02-18T17:20:51.987332Z"
    }
   },
   "id": "c17bfaaf898b44df"
  },
  {
   "cell_type": "code",
   "execution_count": 171,
   "outputs": [],
   "source": [
    "ca_loc.to_csv('/Users/ouharuhua/Desktop/Datathon_2024/Processed/interventions_ca_geoloc_with_province.csv', index=False)"
   ],
   "metadata": {
    "collapsed": false,
    "ExecuteTime": {
     "end_time": "2024-02-18T17:20:52.034861Z",
     "start_time": "2024-02-18T17:20:51.996038Z"
    }
   },
   "id": "92a4d42c9fc3b291"
  },
  {
   "cell_type": "code",
   "execution_count": 171,
   "outputs": [],
   "source": [],
   "metadata": {
    "collapsed": false,
    "ExecuteTime": {
     "end_time": "2024-02-18T17:20:52.039722Z",
     "start_time": "2024-02-18T17:20:52.035381Z"
    }
   },
   "id": "cd83373e14c2ba0a"
  },
  {
   "cell_type": "markdown",
   "source": [
    "intervention without  hospital & aed"
   ],
   "metadata": {
    "collapsed": false
   },
   "id": "1f81599711917a23"
  },
  {
   "cell_type": "code",
   "execution_count": 172,
   "outputs": [],
   "source": [
    "int_without = pd.read_csv('/Users/ouharuhua/Desktop/Datathon_2024/Processed/intervention_without_aed_hospital.csv',low_memory=False)"
   ],
   "metadata": {
    "collapsed": false,
    "ExecuteTime": {
     "end_time": "2024-02-18T17:20:55.433539Z",
     "start_time": "2024-02-18T17:20:52.038272Z"
    }
   },
   "id": "9be049b122249c8"
  },
  {
   "cell_type": "code",
   "execution_count": 179,
   "outputs": [],
   "source": [
    "def add_province_column(df, gdf):\n",
    "    \"\"\"\n",
    "    Function to add a 'province' column to the DataFrame based on latitude and longitude coordinates.\n",
    "\n",
    "    Parameters:\n",
    "        df (DataFrame): DataFrame containing latitude and longitude columns.\n",
    "        gdf (GeoDataFrame): GeoDataFrame containing province polygons with a 'geometry' column.\n",
    "\n",
    "    Returns:\n",
    "        DataFrame: DataFrame with the 'province' column added.\n",
    "        int: Number of rows with invalid geometry.\n",
    "    \"\"\"\n",
    "    province_list = []\n",
    "    invalid_geometry_count = 0\n",
    "    for index, row in df.iterrows():\n",
    "        try:\n",
    "            province = return_province(row['latitude_intervention'], row['longitude_intervention'], gdf)\n",
    "            province_list.append(province)\n",
    "        except Exception as e:\n",
    "            province_list.append(None)  # Append None when an error occurs\n",
    "            invalid_geometry_count += 1\n",
    "\n",
    "    df['province'] = province_list\n",
    "    return df, invalid_geometry_count\n"
   ],
   "metadata": {
    "collapsed": false,
    "ExecuteTime": {
     "end_time": "2024-02-18T17:28:01.616626Z",
     "start_time": "2024-02-18T17:28:01.611773Z"
    }
   },
   "id": "63f16e4781bc70a"
  },
  {
   "cell_type": "code",
   "execution_count": 180,
   "outputs": [
    {
     "name": "stdout",
     "output_type": "stream",
     "text": [
      "Number of rows with invalid geometry: 44549\n"
     ]
    }
   ],
   "source": [
    "# Call the function and store the result in ca_loc with the 'province' column added\n",
    "int_without_with_province, invalid_geometry_count = add_province_column(int_without, gdf)\n",
    "\n",
    "print(f\"Number of rows with invalid geometry: {invalid_geometry_count}\")"
   ],
   "metadata": {
    "collapsed": false,
    "ExecuteTime": {
     "end_time": "2024-02-18T17:32:57.688341Z",
     "start_time": "2024-02-18T17:28:02.514699Z"
    }
   },
   "id": "d3c84e2325e0a4b5"
  },
  {
   "cell_type": "code",
   "execution_count": 181,
   "outputs": [
    {
     "data": {
      "text/plain": "         mission_id          service_name  latitude_permanence  \\\n0       21221520003      MV HVP VILV West         5.092528e+01   \n1       21221520004      MV HVP HALL West         5.074320e+01   \n2       21221520019      MV HVP LEUV Oost         5.087759e+01   \n3       21221520021      MV HVP OVER Oost         5.077667e+01   \n4       21221520023  BV AARS 112 Hageland         5.098222e+01   \n...             ...                   ...                  ...   \n396471  20222495016         VUB HOP (MED)         5.088720e+10   \n396472  20222495019         UCL HOP (MED)         5.085277e+10   \n396473  20222495031      Anderlecht (MED)         5.083266e+09   \n396474  20222495031          Erasme (MED)                  NaN   \n396475  20222495078             UCL (MED)         5.085217e+10   \n\n        longitude_permanence permanence_short_name permanence_long_name  \\\n0               4.423057e+00             AVVILV01A       ZW VILVOORDE 1   \n1               4.241053e+00             AVHALL02A           ZW HALLE 2   \n2               4.664523e+00             AVLEUV03A          ZW LEUVEN 3   \n3               4.527505e+00             AVOVER01A        ZW OVERIJSE 1   \n4               4.823880e+00             AVAARS01A          ZW AARSCHOT   \n...                      ...                   ...                  ...   \n396471          4.310674e+10                 M-UZ1     MUG UZ BRUSSEL 1   \n396472          4.453082e+10                M-UCL2            MUG UCL 2   \n396473          4.311889e+10                A-AND2              ZW AND2   \n396474                   NaN                M-ERA2         MUG ERASME 2   \n396475          4.460210e+10                A-UCL1             ZW UCL-1   \n\n       vector_type                   cityname_intervention  \\\n0        Ambulance                                MACHELEN   \n1        Ambulance                                 BEERSEL   \n2        Ambulance                                  LEUVEN   \n3        Ambulance                                OVERIJSE   \n4        Ambulance                            BEGIJNENDIJK   \n...            ...                                     ...   \n396471         MUG                1785 merchtem (merchtem)   \n396472         MUG                1930 zaventem (zaventem)   \n396473         AMB     1601 sint-pieters-leeuw (ruisbroek)   \n396474         NaN     1601 sint-pieters-leeuw (ruisbroek)   \n396475         AMB  1970 wezembeek-oppem (wezembeek-oppem)   \n\n        latitude_intervention  longitude_intervention  ...  \\\n0                   50.896027                4.439554  ...   \n1                   50.745594                4.276564  ...   \n2                   50.901266                4.729644  ...   \n3                   50.772444                4.540823  ...   \n4                   51.016201                4.763659  ...   \n...                       ...                     ...  ...   \n396471              50.960825                4.233437  ...   \n396472              50.882367                4.474068  ...   \n396473              50.793336                4.298703  ...   \n396474              50.793336                4.298703  ...   \n396475              50.836339                4.485902  ...   \n\n                           cityname_destination_hospital  \\\n0                                                    NaN   \n1                                                    NaN   \n2                                                    NaN   \n3                                                    NaN   \n4                                                    NaN   \n...                                                  ...   \n396471                                               NaN   \n396472                                               NaN   \n396473                                1190 vorst (vorst)   \n396474                                               NaN   \n396475  1200 woluwe-saint-lambert (woluwe-saint-lambert)   \n\n       streetname_destination_hospital housenumber_destination_hospital  \\\n0                                  NaN                              NaN   \n1                                  NaN                              NaN   \n2                                  NaN                              NaN   \n3                                  NaN                              NaN   \n4                                  NaN                              NaN   \n...                                ...                              ...   \n396471                             NaN                              NaN   \n396472                             NaN                              NaN   \n396473                   marconistraat                              NaN   \n396474                             NaN                              NaN   \n396475               avenue hippocrate                              NaN   \n\n       calculated_traveltime_destinatio calculated_distance_destination  \\\n0                                   NaN                             NaN   \n1                                   NaN                             NaN   \n2                                   NaN                             NaN   \n3                                   NaN                             NaN   \n4                                   NaN                             NaN   \n...                                 ...                             ...   \n396471                              NaN                             NaN   \n396472                              NaN                             NaN   \n396473                              NaN                             NaN   \n396474                              NaN                             NaN   \n396475                              NaN                             NaN   \n\n       number_of_transported_persons abandon_reason  \\\n0                                NaN            NaN   \n1                                NaN            NaN   \n2                                NaN            NaN   \n3                                NaN            NaN   \n4                                NaN            NaN   \n...                              ...            ...   \n396471                           NaN            NaN   \n396472                           NaN            NaN   \n396473                           1.0            NaN   \n396474                           NaN            NaN   \n396475                           1.0            NaN   \n\n                            eventtype eventlevel                     province  \n0                  P034 SCHEDELTRAUMA         N5  Province du Brabant flamand  \n1       P010 ADEMHALINGSMOEILIJKHEDEN         N5  Province du Brabant flamand  \n2       P010 ADEMHALINGSMOEILIJKHEDEN         N5  Province du Brabant flamand  \n3                  P034 SCHEDELTRAUMA         N5  Province du Brabant flamand  \n4         P031 PSYCHIATRISCH PROBLEEM         N5  Province du Brabant flamand  \n...                               ...        ...                          ...  \n396471      P096 Buitendienststelling        NaN  Province du Brabant flamand  \n396472      P096 Buitendienststelling        NaN  Province du Brabant flamand  \n396473      P096 Buitendienststelling        NaN  Province du Brabant flamand  \n396474      P096 Buitendienststelling        NaN  Province du Brabant flamand  \n396475      P096 Buitendienststelling        NaN  Province du Brabant flamand  \n\n[396476 rows x 47 columns]",
      "text/html": "<div>\n<style scoped>\n    .dataframe tbody tr th:only-of-type {\n        vertical-align: middle;\n    }\n\n    .dataframe tbody tr th {\n        vertical-align: top;\n    }\n\n    .dataframe thead th {\n        text-align: right;\n    }\n</style>\n<table border=\"1\" class=\"dataframe\">\n  <thead>\n    <tr style=\"text-align: right;\">\n      <th></th>\n      <th>mission_id</th>\n      <th>service_name</th>\n      <th>latitude_permanence</th>\n      <th>longitude_permanence</th>\n      <th>permanence_short_name</th>\n      <th>permanence_long_name</th>\n      <th>vector_type</th>\n      <th>cityname_intervention</th>\n      <th>latitude_intervention</th>\n      <th>longitude_intervention</th>\n      <th>...</th>\n      <th>cityname_destination_hospital</th>\n      <th>streetname_destination_hospital</th>\n      <th>housenumber_destination_hospital</th>\n      <th>calculated_traveltime_destinatio</th>\n      <th>calculated_distance_destination</th>\n      <th>number_of_transported_persons</th>\n      <th>abandon_reason</th>\n      <th>eventtype</th>\n      <th>eventlevel</th>\n      <th>province</th>\n    </tr>\n  </thead>\n  <tbody>\n    <tr>\n      <th>0</th>\n      <td>21221520003</td>\n      <td>MV HVP VILV West</td>\n      <td>5.092528e+01</td>\n      <td>4.423057e+00</td>\n      <td>AVVILV01A</td>\n      <td>ZW VILVOORDE 1</td>\n      <td>Ambulance</td>\n      <td>MACHELEN</td>\n      <td>50.896027</td>\n      <td>4.439554</td>\n      <td>...</td>\n      <td>NaN</td>\n      <td>NaN</td>\n      <td>NaN</td>\n      <td>NaN</td>\n      <td>NaN</td>\n      <td>NaN</td>\n      <td>NaN</td>\n      <td>P034 SCHEDELTRAUMA</td>\n      <td>N5</td>\n      <td>Province du Brabant flamand</td>\n    </tr>\n    <tr>\n      <th>1</th>\n      <td>21221520004</td>\n      <td>MV HVP HALL West</td>\n      <td>5.074320e+01</td>\n      <td>4.241053e+00</td>\n      <td>AVHALL02A</td>\n      <td>ZW HALLE 2</td>\n      <td>Ambulance</td>\n      <td>BEERSEL</td>\n      <td>50.745594</td>\n      <td>4.276564</td>\n      <td>...</td>\n      <td>NaN</td>\n      <td>NaN</td>\n      <td>NaN</td>\n      <td>NaN</td>\n      <td>NaN</td>\n      <td>NaN</td>\n      <td>NaN</td>\n      <td>P010 ADEMHALINGSMOEILIJKHEDEN</td>\n      <td>N5</td>\n      <td>Province du Brabant flamand</td>\n    </tr>\n    <tr>\n      <th>2</th>\n      <td>21221520019</td>\n      <td>MV HVP LEUV Oost</td>\n      <td>5.087759e+01</td>\n      <td>4.664523e+00</td>\n      <td>AVLEUV03A</td>\n      <td>ZW LEUVEN 3</td>\n      <td>Ambulance</td>\n      <td>LEUVEN</td>\n      <td>50.901266</td>\n      <td>4.729644</td>\n      <td>...</td>\n      <td>NaN</td>\n      <td>NaN</td>\n      <td>NaN</td>\n      <td>NaN</td>\n      <td>NaN</td>\n      <td>NaN</td>\n      <td>NaN</td>\n      <td>P010 ADEMHALINGSMOEILIJKHEDEN</td>\n      <td>N5</td>\n      <td>Province du Brabant flamand</td>\n    </tr>\n    <tr>\n      <th>3</th>\n      <td>21221520021</td>\n      <td>MV HVP OVER Oost</td>\n      <td>5.077667e+01</td>\n      <td>4.527505e+00</td>\n      <td>AVOVER01A</td>\n      <td>ZW OVERIJSE 1</td>\n      <td>Ambulance</td>\n      <td>OVERIJSE</td>\n      <td>50.772444</td>\n      <td>4.540823</td>\n      <td>...</td>\n      <td>NaN</td>\n      <td>NaN</td>\n      <td>NaN</td>\n      <td>NaN</td>\n      <td>NaN</td>\n      <td>NaN</td>\n      <td>NaN</td>\n      <td>P034 SCHEDELTRAUMA</td>\n      <td>N5</td>\n      <td>Province du Brabant flamand</td>\n    </tr>\n    <tr>\n      <th>4</th>\n      <td>21221520023</td>\n      <td>BV AARS 112 Hageland</td>\n      <td>5.098222e+01</td>\n      <td>4.823880e+00</td>\n      <td>AVAARS01A</td>\n      <td>ZW AARSCHOT</td>\n      <td>Ambulance</td>\n      <td>BEGIJNENDIJK</td>\n      <td>51.016201</td>\n      <td>4.763659</td>\n      <td>...</td>\n      <td>NaN</td>\n      <td>NaN</td>\n      <td>NaN</td>\n      <td>NaN</td>\n      <td>NaN</td>\n      <td>NaN</td>\n      <td>NaN</td>\n      <td>P031 PSYCHIATRISCH PROBLEEM</td>\n      <td>N5</td>\n      <td>Province du Brabant flamand</td>\n    </tr>\n    <tr>\n      <th>...</th>\n      <td>...</td>\n      <td>...</td>\n      <td>...</td>\n      <td>...</td>\n      <td>...</td>\n      <td>...</td>\n      <td>...</td>\n      <td>...</td>\n      <td>...</td>\n      <td>...</td>\n      <td>...</td>\n      <td>...</td>\n      <td>...</td>\n      <td>...</td>\n      <td>...</td>\n      <td>...</td>\n      <td>...</td>\n      <td>...</td>\n      <td>...</td>\n      <td>...</td>\n      <td>...</td>\n    </tr>\n    <tr>\n      <th>396471</th>\n      <td>20222495016</td>\n      <td>VUB HOP (MED)</td>\n      <td>5.088720e+10</td>\n      <td>4.310674e+10</td>\n      <td>M-UZ1</td>\n      <td>MUG UZ BRUSSEL 1</td>\n      <td>MUG</td>\n      <td>1785 merchtem (merchtem)</td>\n      <td>50.960825</td>\n      <td>4.233437</td>\n      <td>...</td>\n      <td>NaN</td>\n      <td>NaN</td>\n      <td>NaN</td>\n      <td>NaN</td>\n      <td>NaN</td>\n      <td>NaN</td>\n      <td>NaN</td>\n      <td>P096 Buitendienststelling</td>\n      <td>NaN</td>\n      <td>Province du Brabant flamand</td>\n    </tr>\n    <tr>\n      <th>396472</th>\n      <td>20222495019</td>\n      <td>UCL HOP (MED)</td>\n      <td>5.085277e+10</td>\n      <td>4.453082e+10</td>\n      <td>M-UCL2</td>\n      <td>MUG UCL 2</td>\n      <td>MUG</td>\n      <td>1930 zaventem (zaventem)</td>\n      <td>50.882367</td>\n      <td>4.474068</td>\n      <td>...</td>\n      <td>NaN</td>\n      <td>NaN</td>\n      <td>NaN</td>\n      <td>NaN</td>\n      <td>NaN</td>\n      <td>NaN</td>\n      <td>NaN</td>\n      <td>P096 Buitendienststelling</td>\n      <td>NaN</td>\n      <td>Province du Brabant flamand</td>\n    </tr>\n    <tr>\n      <th>396473</th>\n      <td>20222495031</td>\n      <td>Anderlecht (MED)</td>\n      <td>5.083266e+09</td>\n      <td>4.311889e+10</td>\n      <td>A-AND2</td>\n      <td>ZW AND2</td>\n      <td>AMB</td>\n      <td>1601 sint-pieters-leeuw (ruisbroek)</td>\n      <td>50.793336</td>\n      <td>4.298703</td>\n      <td>...</td>\n      <td>1190 vorst (vorst)</td>\n      <td>marconistraat</td>\n      <td>NaN</td>\n      <td>NaN</td>\n      <td>NaN</td>\n      <td>1.0</td>\n      <td>NaN</td>\n      <td>P096 Buitendienststelling</td>\n      <td>NaN</td>\n      <td>Province du Brabant flamand</td>\n    </tr>\n    <tr>\n      <th>396474</th>\n      <td>20222495031</td>\n      <td>Erasme (MED)</td>\n      <td>NaN</td>\n      <td>NaN</td>\n      <td>M-ERA2</td>\n      <td>MUG ERASME 2</td>\n      <td>NaN</td>\n      <td>1601 sint-pieters-leeuw (ruisbroek)</td>\n      <td>50.793336</td>\n      <td>4.298703</td>\n      <td>...</td>\n      <td>NaN</td>\n      <td>NaN</td>\n      <td>NaN</td>\n      <td>NaN</td>\n      <td>NaN</td>\n      <td>NaN</td>\n      <td>NaN</td>\n      <td>P096 Buitendienststelling</td>\n      <td>NaN</td>\n      <td>Province du Brabant flamand</td>\n    </tr>\n    <tr>\n      <th>396475</th>\n      <td>20222495078</td>\n      <td>UCL (MED)</td>\n      <td>5.085217e+10</td>\n      <td>4.460210e+10</td>\n      <td>A-UCL1</td>\n      <td>ZW UCL-1</td>\n      <td>AMB</td>\n      <td>1970 wezembeek-oppem (wezembeek-oppem)</td>\n      <td>50.836339</td>\n      <td>4.485902</td>\n      <td>...</td>\n      <td>1200 woluwe-saint-lambert (woluwe-saint-lambert)</td>\n      <td>avenue hippocrate</td>\n      <td>NaN</td>\n      <td>NaN</td>\n      <td>NaN</td>\n      <td>1.0</td>\n      <td>NaN</td>\n      <td>P096 Buitendienststelling</td>\n      <td>NaN</td>\n      <td>Province du Brabant flamand</td>\n    </tr>\n  </tbody>\n</table>\n<p>396476 rows × 47 columns</p>\n</div>"
     },
     "execution_count": 181,
     "metadata": {},
     "output_type": "execute_result"
    }
   ],
   "source": [
    "int_without_with_province"
   ],
   "metadata": {
    "collapsed": false,
    "ExecuteTime": {
     "end_time": "2024-02-18T17:32:57.881950Z",
     "start_time": "2024-02-18T17:32:57.695086Z"
    }
   },
   "id": "8001968fd0865702"
  },
  {
   "cell_type": "code",
   "execution_count": 182,
   "outputs": [
    {
     "name": "stdout",
     "output_type": "stream",
     "text": [
      "<class 'pandas.core.frame.DataFrame'>\n",
      "RangeIndex: 396476 entries, 0 to 396475\n",
      "Data columns (total 47 columns):\n",
      " #   Column                            Non-Null Count   Dtype  \n",
      "---  ------                            --------------   -----  \n",
      " 0   mission_id                        396476 non-null  int64  \n",
      " 1   service_name                      359971 non-null  object \n",
      " 2   latitude_permanence               285255 non-null  float64\n",
      " 3   longitude_permanence              360908 non-null  float64\n",
      " 4   permanence_short_name             396298 non-null  object \n",
      " 5   permanence_long_name              359961 non-null  object \n",
      " 6   vector_type                       395943 non-null  object \n",
      " 7   cityname_intervention             396403 non-null  object \n",
      " 8   latitude_intervention             305741 non-null  float64\n",
      " 9   longitude_intervention            395876 non-null  float64\n",
      " 10  province_invervention             112528 non-null  object \n",
      " 11  t0                                395489 non-null  object \n",
      " 12  t1                                395943 non-null  object \n",
      " 13  t1confirmed                       217918 non-null  object \n",
      " 14  t2                                283667 non-null  object \n",
      " 15  t3                                273744 non-null  object \n",
      " 16  t4                                238381 non-null  object \n",
      " 17  t5                                218254 non-null  object \n",
      " 18  t6                                261231 non-null  object \n",
      " 19  t7                                191753 non-null  object \n",
      " 20  intervention_time_(t1reported)    358877 non-null  float64\n",
      " 21  intervention_time_(t1confirmed)   287298 non-null  float64\n",
      " 22  departure_time_(t1reported)       372200 non-null  float64\n",
      " 23  departure_time_(t1confirmed)      298774 non-null  float64\n",
      " 24  file_name                         396476 non-null  object \n",
      " 25  postalcode_permanence             281657 non-null  float64\n",
      " 26  cityname_permanence               282520 non-null  object \n",
      " 27  streetname_permanence             283815 non-null  object \n",
      " 28  housenumber_permanence            20517 non-null   object \n",
      " 29  postalcode_intervention           1332 non-null    object \n",
      " 30  province_intervention             281912 non-null  object \n",
      " 31  t9                                2640 non-null    object \n",
      " 32  waiting_time                      256744 non-null  float64\n",
      " 33  intervention_duration             229180 non-null  float64\n",
      " 34  unavailable_time                  4549 non-null    float64\n",
      " 35  name_destination_hospital         210103 non-null  object \n",
      " 36  postalcode_destination_hospital   756 non-null     object \n",
      " 37  cityname_destination_hospital     210108 non-null  object \n",
      " 38  streetname_destination_hospital   210012 non-null  object \n",
      " 39  housenumber_destination_hospital  831 non-null     object \n",
      " 40  calculated_traveltime_destinatio  184865 non-null  float64\n",
      " 41  calculated_distance_destination   184865 non-null  float64\n",
      " 42  number_of_transported_persons     181229 non-null  float64\n",
      " 43  abandon_reason                    35443 non-null   object \n",
      " 44  eventtype                         396410 non-null  object \n",
      " 45  eventlevel                        391117 non-null  object \n",
      " 46  province                          351927 non-null  object \n",
      "dtypes: float64(15), int64(1), object(31)\n",
      "memory usage: 142.2+ MB\n"
     ]
    }
   ],
   "source": [
    "int_without_with_province.info()"
   ],
   "metadata": {
    "collapsed": false,
    "ExecuteTime": {
     "end_time": "2024-02-18T17:32:58.164018Z",
     "start_time": "2024-02-18T17:32:57.887545Z"
    }
   },
   "id": "9711e3feb8aba4a4"
  },
  {
   "cell_type": "code",
   "execution_count": 183,
   "outputs": [],
   "source": [
    "int_without_with_province.to_csv('/Users/ouharuhua/Desktop/Datathon_2024/Processed/interventions_without_aed_hospital_with_province.csv', index=False)"
   ],
   "metadata": {
    "collapsed": false,
    "ExecuteTime": {
     "end_time": "2024-02-18T17:35:41.459004Z",
     "start_time": "2024-02-18T17:35:37.325619Z"
    }
   },
   "id": "5e3c57066caff3bc"
  },
  {
   "cell_type": "code",
   "execution_count": 184,
   "outputs": [
    {
     "data": {
      "text/plain": "province\nFalse                              91571\nProvince de Hainaut                45741\nProvince de Flandre orientale      39925\nProvince d’Anvers                  37702\nProvince de Flandre occidentale    36626\nProvince du Brabant flamand        36573\nProvince de Limbourg               24443\nProvince de Namur                  16938\nProvince du Brabant wallon         12221\nProvince de Luxembourg              9832\nRégion de Bruxelles-Capitale         355\nName: count, dtype: int64"
     },
     "execution_count": 184,
     "metadata": {},
     "output_type": "execute_result"
    }
   ],
   "source": [
    "# Count of each unique value in 'Column1'\n",
    "count_province = int_without_with_province['province'].value_counts()\n",
    "\n",
    "count_province"
   ],
   "metadata": {
    "collapsed": false,
    "ExecuteTime": {
     "end_time": "2024-02-18T17:36:26.465334Z",
     "start_time": "2024-02-18T17:36:26.439989Z"
    }
   },
   "id": "26b8d0c752a0dff6"
  },
  {
   "cell_type": "code",
   "execution_count": null,
   "outputs": [],
   "source": [],
   "metadata": {
    "collapsed": false
   },
   "id": "96caa51ce1647554"
  }
 ],
 "metadata": {
  "kernelspec": {
   "display_name": "Python 3",
   "language": "python",
   "name": "python3"
  },
  "language_info": {
   "codemirror_mode": {
    "name": "ipython",
    "version": 2
   },
   "file_extension": ".py",
   "mimetype": "text/x-python",
   "name": "python",
   "nbconvert_exporter": "python",
   "pygments_lexer": "ipython2",
   "version": "2.7.6"
  }
 },
 "nbformat": 4,
 "nbformat_minor": 5
}
