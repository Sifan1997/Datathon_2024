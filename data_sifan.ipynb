{
 "cells": [
  {
   "cell_type": "code",
   "execution_count": 31,
   "id": "initial_id",
   "metadata": {
    "collapsed": true,
    "ExecuteTime": {
     "end_time": "2024-02-17T19:21:54.869675Z",
     "start_time": "2024-02-17T19:21:54.119347Z"
    }
   },
   "outputs": [],
   "source": [
    "import pandas as pd\n",
    "import numpy as np\n",
    "import matplotlib.pyplot as plt"
   ]
  },
  {
   "cell_type": "code",
   "execution_count": 14,
   "outputs": [],
   "source": [
    "cad = pd.read_parquet('/Users/ouharuhua/Desktop/Datathon_2024/Data/cad9.parquet.gzip', engine='pyarrow')\n",
    "inverventions1 = pd.read_parquet('/Users/ouharuhua/Desktop/Datathon_2024/Data/interventions1.parquet', engine='pyarrow')\n",
    "interventions2 = pd.read_parquet('/Users/ouharuhua/Desktop/Datathon_2024/Data/interventions2.parquet', engine='pyarrow')\n",
    "interventions3 = pd.read_parquet('/Users/ouharuhua/Desktop/Datathon_2024/Data/interventions3.parquet', engine='pyarrow')\n",
    "interventions_bxl1 = pd.read_parquet('/Users/ouharuhua/Desktop/Datathon_2024/Data/interventions_bxl.parquet.gzip', engine='pyarrow')\n",
    "interventions_bxl2 = pd.read_parquet('/Users/ouharuhua/Desktop/Datathon_2024/Data/interventions_bxl2.parquet.gzip', engine='pyarrow')"
   ],
   "metadata": {
    "collapsed": false,
    "ExecuteTime": {
     "end_time": "2024-02-17T19:11:54.773037Z",
     "start_time": "2024-02-17T19:11:51.528571Z"
    }
   },
   "id": "bc98c728d11178e1"
  },
  {
   "cell_type": "code",
   "execution_count": 15,
   "outputs": [
    {
     "name": "stdout",
     "output_type": "stream",
     "text": [
      "['province', 'mission_id', 'service_name', 'latitude_permanence', 'longitude_permanence', 'permanence_short_name', 'permanence_long_name', 'vector_type', 'eventtype_trip', 'eventsubtype_trip', 'eventlevel_trip', 'cityname_intervention', 'citysectionname_intervention', 'latitude_intervention', 'longitude_intervention', 'province_invervention', 't0', 't1', 't1confirmed', 't2', 't3', 't4', 't5', 't6', 't7', 'name_destination_hospital', 'intervention_time_(t1reported)', 'intervention_time_(t1confirmed)', 'departure_time_(t1reported)', 'departure_time_(t1confirmed)', 'ui', 'id', 'mission_nr', 'ambucode', 'unit_id', 'file_name']\n",
      "['mission_id', 'service_name', 'postalcode_permanence', 'cityname_permanence', 'streetname_permanence', 'housenumber_permanence', 'latitude_permanence', 'longitude_permanence', 'permanence_short_name', 'permanence_long_name', 'vector_type', 'eventtype_firstcall', 'eventlevel_firstcall', 'eventtype_trip', 'eventlevel_trip', 'postalcode_intervention', 'cityname_intervention', 'latitude_intervention', 'longitude_intervention', 'province_intervention', 't0', 't1', 't1confirmed', 't2', 't3', 't4', 't5', 't6', 't7', 't9', 'intervention_time_(t1reported)', 'intervention_time_(t1confirmed)', 'waiting_time', 'intervention_duration', 'departure_time_(t1reported)', 'departure_time_(t1confirmed)', 'unavailable_time', 'name_destination_hospital', 'postalcode_destination_hospital', 'cityname_destination_hospital', 'streetname_destination_hospital', 'housenumber_destination_hospital', 'calculated_traveltime_destinatio', 'calculated_distance_destination', 'number_of_transported_persons', 'abandon_reason', 'file_name']\n",
      "['mission_id', 'service_name', 'postalcode_permanence', 'cityname_permanence', 'streetname_permanence', 'housenumber_permanence', 'latitude_permanence', 'longitude_permanence', 'permanence_short_name', 'permanence_long_name', 'vector_type', 'eventtype_firstcall', 'eventlevel_firstcall', 'eventtype_trip', 'eventlevel_trip', 'postalcode_intervention', 'cityname_intervention', 'latitude_intervention', 'longitude_intervention', 'province_intervention', 't0', 't1', 't1confirmed', 't2', 't3', 't4', 't5', 't6', 't7', 't9', 'intervention_time_(t1reported)', 'intervention_time_(t1confirmed)', 'waiting_time', 'intervention_duration', 'departure_time_(t1reported)', 'departure_time_(t1confirmed)', 'unavailable_time', 'name_destination_hospital', 'postalcode_destination_hospital', 'cityname_destination_hospital', 'streetname_destination_hospital', 'housenumber_destination_hospital', 'calculated_traveltime_destinatio', 'calculated_distance_destination', 'number_of_transported_persons', 'abandon_reason', 'file_name']\n",
      "['mission_id', 'service_name', 'postalcode_permanence', 'cityname_permanence', 'streetname_permanence', 'housenumber_permanence', 'latitude_permanence', 'longitude_permanence', 'permanence_short_name', 'permanence_long_name', 'vector_type', 'eventtype_firstcall', 'eventlevel_firstcall', 'eventtype_trip', 'eventlevel_trip', 'postalcode_intervention', 'cityname_intervention', 'latitude_intervention', 'longitude_intervention', 'province_intervention', 't0', 't1', 't1confirmed', 't2', 't3', 't4', 't5', 't6', 't7', 't9', 'intervention_time_(t1reported)', 'intervention_time_(t1confirmed)', 'waiting_time', 'intervention_duration', 'departure_time_(t1reported)', 'departure_time_(t1confirmed)', 'unavailable_time', 'name_destination_hospital', 'postalcode_destination_hospital', 'cityname_destination_hospital', 'streetname_destination_hospital', 'housenumber_destination_hospital', 'calculated_traveltime_destinatio', 'calculated_distance_destination', 'number_of_transported_persons', 'abandon_reason', 'file_name']\n",
      "['mission_id', 'service_name', 'postalcode_permanence', 'cityname_permanence', 'streetname_permanence', 'housenumber_permanence', 'latitude_permanence', 'longitude_permanence', 'permanence_short_name', 'permanence_long_name', 'vector_type', 'eventtype_firstcall', 'eventlevel_firstcall', 'eventtype_trip', 'eventlevel_trip', 'postalcode_intervention', 'cityname_intervention', 'latitude_intervention', 'longitude_intervention', 't0', 't1', 't1confirmed', 't2', 't3', 't4', 't5', 't6', 't7', 't9', 'intervention_time_t1reported', 'waiting_time', 'intervention_duration', 'departure_time_t1reported', 'unavailable_time', 'name_destination_hospital', 'postalcode_destination_hospital', 'cityname_destination_hospital', 'streetname_destination_hospital', 'housenumber_destination_hospital', 'calculated_traveltime_departure_', 'calculated_distance_departure_to', 'calculated_traveltime_destinatio', 'calculated_distance_destination_', 'number_of_transported_persons', 'abandon_reason', 'file_name']\n",
      "['mission_id', 't0', 'cityname_intervention', 'longitude_intervention', 'latitude_intervention', 'description_nl', 'ic_description_nl', 'eventtype_and_eventlevel', 'creationtime', 'number_of_transported_persons', 'permanence_long_name_nl', 'permanence_long_name_fr', 'permanence_short_name_nl', 'permanence_short_name_fr', 'service_name_nl', 'service_name_fr', 'cityname_permanence', 'streetname_permanence', 'housenumber_permanence', 'latitude_permanence', 'longitude_permanence', 'vector_type_nl', 'vector_type_fr', 'name_destination_hospital', 'cityname_destination_hospital', 'streetname_destination_hospital', 'housenumber_destination_hospital', 'abandon_reason_nl', 'abandon_reason_fr', 't1', 't2', 't3', 't4', 't5', 't6', 't7', 'file_name']\n"
     ]
    }
   ],
   "source": [
    "# Assuming dfs is a list of DataFrames\n",
    "dfs = [cad, inverventions1, interventions2, interventions3, interventions_bxl1, interventions_bxl2]  # List of your DataFrames\n",
    "file_names = [\"cad9\", \"inverventions1\", \"interventions2\",'interventions3','interventions_bxl','interventions_bxl2']  # List of file names\n",
    "\n",
    "for df,file_name in zip(dfs, file_names):\n",
    "    # Convert column names from uppercase to lowercase\n",
    "    df.rename(columns=lambda x: x.lower(), inplace=True)\n",
    "    \n",
    "    # Strip whitespace from column names\n",
    "    df.columns = [col.strip() for col in df.columns]\n",
    "    # Replace blank spaces with underscores in column names\n",
    "    df.rename(columns=lambda x: x.replace(' ', '_'), inplace=True)\n",
    "    \n",
    "    # Add a new column 'file_name' with the name of the DataFrame\n",
    "    df['file_name'] = file_name\n",
    "    \n",
    "    print(df.columns.tolist())"
   ],
   "metadata": {
    "collapsed": false,
    "ExecuteTime": {
     "end_time": "2024-02-17T19:11:54.948127Z",
     "start_time": "2024-02-17T19:11:54.930869Z"
    }
   },
   "id": "37ca16814ee002ba"
  },
  {
   "cell_type": "code",
   "execution_count": 15,
   "outputs": [],
   "source": [],
   "metadata": {
    "collapsed": false,
    "ExecuteTime": {
     "end_time": "2024-02-17T19:11:54.948741Z",
     "start_time": "2024-02-17T19:11:54.944495Z"
    }
   },
   "id": "5983463297e36b81"
  },
  {
   "cell_type": "markdown",
   "source": [
    "cad9"
   ],
   "metadata": {
    "collapsed": false
   },
   "id": "4ac71ff533686860"
  },
  {
   "cell_type": "code",
   "execution_count": 16,
   "outputs": [],
   "source": [
    "# Delete columns\n",
    "columns_to_delete = ['citysectionname_intervention', 'province', 'name_destination_hospital','ui','id','mission_nr','ambucode','unit_id','eventsubtype_trip']\n",
    "cad.drop(columns=columns_to_delete, inplace=True)"
   ],
   "metadata": {
    "collapsed": false,
    "ExecuteTime": {
     "end_time": "2024-02-17T19:11:55.134382Z",
     "start_time": "2024-02-17T19:11:54.951350Z"
    }
   },
   "id": "6ab4d20de2181354"
  },
  {
   "cell_type": "markdown",
   "source": [
    "Intervention bxl"
   ],
   "metadata": {
    "collapsed": false
   },
   "id": "14af8c5654aa48ad"
  },
  {
   "cell_type": "code",
   "execution_count": 17,
   "outputs": [],
   "source": [
    "# Extract eventlevel using regular expression\n",
    "interventions_bxl2['eventlevel_trip'] = interventions_bxl2['eventtype_and_eventlevel'].str.extract('(N\\d{2})', expand=False)\n",
    "\n",
    "# Extract the first character of the eventtype\n",
    "interventions_bxl2['eventtype_trip'] = interventions_bxl2['eventtype_and_eventlevel'].str.split(n=1).str[0]\n",
    "\n",
    "# Rename columns\n",
    "interventions_bxl2.rename(columns={'service_name_nl': 'service_name', 'permanence_long_name_nl': 'permanence_long_name',\n",
    "                                  'permanence_short_name_nl': 'permanence_short_name', 'vector_type_nl': 'vector_type', \n",
    "                                  'abandon_reason_nl': 'abandon_reason'}, inplace=True)\n",
    "\n",
    "# Delete columns\n",
    "columns_to_delete = ['service_name_fr', 'permanence_long_name_fr', 'permanence_short_name_fr','vector_type_fr',\n",
    "                     'eventtype_and_eventlevel','description_nl','ic_description_nl','creationtime','abandon_reason_fr']\n",
    "interventions_bxl2.drop(columns=columns_to_delete, inplace=True)\n"
   ],
   "metadata": {
    "collapsed": false,
    "ExecuteTime": {
     "end_time": "2024-02-17T19:11:55.185008Z",
     "start_time": "2024-02-17T19:11:55.146529Z"
    }
   },
   "id": "4dfb38b6e1339577"
  },
  {
   "cell_type": "code",
   "execution_count": 18,
   "outputs": [],
   "source": [
    "# Concatenate rows\n",
    "interventions_bxl = pd.concat([interventions_bxl1, interventions_bxl2], ignore_index=True)\n",
    "interventions_bxl.to_csv('/Users/ouharuhua/Desktop/Datathon_2024/Processed/intervention_bxl.csv', index=False)"
   ],
   "metadata": {
    "collapsed": false,
    "ExecuteTime": {
     "end_time": "2024-02-17T19:11:57.284525Z",
     "start_time": "2024-02-17T19:11:55.190216Z"
    }
   },
   "id": "9d2f1f9f8ad3de4b"
  },
  {
   "cell_type": "code",
   "execution_count": 19,
   "outputs": [],
   "source": [
    "# Rename columns\n",
    "interventions_bxl.rename(columns={'intervention_time_t1reported': 'intervention_time_(t1reported)', \n",
    "                                  'departure_time_t1reported': 'departure_time_(t1reported)',\n",
    "                                  'calculated_distance_destination_': 'calculated_distance_destination'}, inplace=True)\n",
    "\n",
    "# Delete columns\n",
    "columns_to_delete = ['calculated_traveltime_departure_', 'calculated_distance_departure_to']\n",
    "interventions_bxl.drop(columns=columns_to_delete, inplace=True)"
   ],
   "metadata": {
    "collapsed": false,
    "ExecuteTime": {
     "end_time": "2024-02-17T19:11:57.345022Z",
     "start_time": "2024-02-17T19:11:57.280322Z"
    }
   },
   "id": "98aa276322fddc31"
  },
  {
   "cell_type": "markdown",
   "source": [
    "Intervention"
   ],
   "metadata": {
    "collapsed": false
   },
   "id": "ce20e4f559bc6f3f"
  },
  {
   "cell_type": "code",
   "execution_count": 20,
   "outputs": [],
   "source": [
    "# Concatenate rows\n",
    "interventions_123 = pd.concat([inverventions1, interventions2, interventions3], ignore_index=True)\n"
   ],
   "metadata": {
    "collapsed": false,
    "ExecuteTime": {
     "end_time": "2024-02-17T19:11:58.037483Z",
     "start_time": "2024-02-17T19:11:57.339425Z"
    }
   },
   "id": "922bc45cd55ccb26"
  },
  {
   "cell_type": "code",
   "execution_count": 21,
   "outputs": [
    {
     "name": "stdout",
     "output_type": "stream",
     "text": [
      "['mission_id', 'service_name', 'latitude_permanence', 'longitude_permanence', 'permanence_short_name', 'permanence_long_name', 'vector_type', 'eventtype_trip', 'eventlevel_trip', 'cityname_intervention', 'latitude_intervention', 'longitude_intervention', 'province_invervention', 't0', 't1', 't1confirmed', 't2', 't3', 't4', 't5', 't6', 't7', 'intervention_time_(t1reported)', 'intervention_time_(t1confirmed)', 'departure_time_(t1reported)', 'departure_time_(t1confirmed)', 'file_name']\n",
      "['mission_id', 'service_name', 'postalcode_permanence', 'cityname_permanence', 'streetname_permanence', 'housenumber_permanence', 'latitude_permanence', 'longitude_permanence', 'permanence_short_name', 'permanence_long_name', 'vector_type', 'eventtype_firstcall', 'eventlevel_firstcall', 'eventtype_trip', 'eventlevel_trip', 'postalcode_intervention', 'cityname_intervention', 'latitude_intervention', 'longitude_intervention', 'province_intervention', 't0', 't1', 't1confirmed', 't2', 't3', 't4', 't5', 't6', 't7', 't9', 'intervention_time_(t1reported)', 'intervention_time_(t1confirmed)', 'waiting_time', 'intervention_duration', 'departure_time_(t1reported)', 'departure_time_(t1confirmed)', 'unavailable_time', 'name_destination_hospital', 'postalcode_destination_hospital', 'cityname_destination_hospital', 'streetname_destination_hospital', 'housenumber_destination_hospital', 'calculated_traveltime_destinatio', 'calculated_distance_destination', 'number_of_transported_persons', 'abandon_reason', 'file_name']\n",
      "['mission_id', 'service_name', 'postalcode_permanence', 'cityname_permanence', 'streetname_permanence', 'housenumber_permanence', 'latitude_permanence', 'longitude_permanence', 'permanence_short_name', 'permanence_long_name', 'vector_type', 'eventtype_firstcall', 'eventlevel_firstcall', 'eventtype_trip', 'eventlevel_trip', 'postalcode_intervention', 'cityname_intervention', 'latitude_intervention', 'longitude_intervention', 't0', 't1', 't1confirmed', 't2', 't3', 't4', 't5', 't6', 't7', 't9', 'intervention_time_(t1reported)', 'waiting_time', 'intervention_duration', 'departure_time_(t1reported)', 'unavailable_time', 'name_destination_hospital', 'postalcode_destination_hospital', 'cityname_destination_hospital', 'streetname_destination_hospital', 'housenumber_destination_hospital', 'calculated_traveltime_destinatio', 'calculated_distance_destination', 'number_of_transported_persons', 'abandon_reason', 'file_name']\n"
     ]
    }
   ],
   "source": [
    "# Assuming dfs is a list of DataFrames\n",
    "dfs = [cad, interventions_123, interventions_bxl]  # List of your DataFrames\n",
    "\n",
    "for i, df in enumerate(dfs):\n",
    "    # Convert column names from uppercase to lowercase\n",
    "    df.rename(columns=lambda x: x.lower(), inplace=True)\n",
    "    # Replace blank spaces with underscores in column names\n",
    "    df.rename(columns=lambda x: x.replace(' ', '_'), inplace=True)\n",
    "    print(df.columns.tolist())"
   ],
   "metadata": {
    "collapsed": false,
    "ExecuteTime": {
     "end_time": "2024-02-17T19:11:58.051478Z",
     "start_time": "2024-02-17T19:11:58.036720Z"
    }
   },
   "id": "6e208a94d4eec532"
  },
  {
   "cell_type": "code",
   "execution_count": 22,
   "outputs": [],
   "source": [
    "# Concatenate rows\n",
    "interventions = pd.concat([cad, interventions_123, interventions_bxl], ignore_index=True)\n"
   ],
   "metadata": {
    "collapsed": false,
    "ExecuteTime": {
     "end_time": "2024-02-17T19:11:58.969562Z",
     "start_time": "2024-02-17T19:11:58.054164Z"
    }
   },
   "id": "cd9a35aa6ac031d8"
  },
  {
   "cell_type": "code",
   "execution_count": 27,
   "outputs": [
    {
     "name": "stdout",
     "output_type": "stream",
     "text": [
      "<class 'pandas.core.frame.DataFrame'>\n",
      "RangeIndex: 1045549 entries, 0 to 1045548\n",
      "Data columns (total 46 columns):\n",
      " #   Column                            Non-Null Count    Dtype  \n",
      "---  ------                            --------------    -----  \n",
      " 0   mission_id                        1045549 non-null  int64  \n",
      " 1   service_name                      948462 non-null   object \n",
      " 2   latitude_permanence               876274 non-null   float64\n",
      " 3   longitude_permanence              956056 non-null   float64\n",
      " 4   permanence_short_name             1041014 non-null  object \n",
      " 5   permanence_long_name              948631 non-null   object \n",
      " 6   vector_type                       1026230 non-null  object \n",
      " 7   cityname_intervention             1045342 non-null  object \n",
      " 8   latitude_intervention             954814 non-null   float64\n",
      " 9   longitude_intervention            1044949 non-null  float64\n",
      " 10  province_invervention             289303 non-null   object \n",
      " 11  t0                                1041831 non-null  object \n",
      " 12  t1                                1026201 non-null  object \n",
      " 13  t1confirmed                       587886 non-null   object \n",
      " 14  t2                                858968 non-null   object \n",
      " 15  t3                                819158 non-null   object \n",
      " 16  t4                                707685 non-null   object \n",
      " 17  t5                                642588 non-null   object \n",
      " 18  t6                                749795 non-null   object \n",
      " 19  t7                                615390 non-null   object \n",
      " 20  intervention_time_(t1reported)    893366 non-null   float64\n",
      " 21  intervention_time_(t1confirmed)   637722 non-null   float64\n",
      " 22  departure_time_(t1reported)       935015 non-null   float64\n",
      " 23  departure_time_(t1confirmed)      661780 non-null   float64\n",
      " 24  file_name                         1045549 non-null  object \n",
      " 25  postalcode_permanence             714927 non-null   float64\n",
      " 26  cityname_permanence               749244 non-null   object \n",
      " 27  streetname_permanence             751638 non-null   object \n",
      " 28  housenumber_permanence            61667 non-null    object \n",
      " 29  postalcode_intervention           115928 non-null   object \n",
      " 30  province_intervention             601881 non-null   object \n",
      " 31  t9                                8965 non-null     object \n",
      " 32  waiting_time                      629835 non-null   float64\n",
      " 33  intervention_duration             542655 non-null   float64\n",
      " 34  unavailable_time                  10915 non-null    float64\n",
      " 35  name_destination_hospital         531617 non-null   object \n",
      " 36  postalcode_destination_hospital   69027 non-null    object \n",
      " 37  cityname_destination_hospital     531660 non-null   object \n",
      " 38  streetname_destination_hospital   531290 non-null   object \n",
      " 39  housenumber_destination_hospital  53933 non-null    object \n",
      " 40  calculated_traveltime_destinatio  453975 non-null   float64\n",
      " 41  calculated_distance_destination   453975 non-null   float64\n",
      " 42  number_of_transported_persons     458894 non-null   float64\n",
      " 43  abandon_reason                    109196 non-null   object \n",
      " 44  eventtype                         1043550 non-null  object \n",
      " 45  eventlevel                        1043550 non-null  object \n",
      "dtypes: float64(15), int64(1), object(30)\n",
      "memory usage: 366.9+ MB\n"
     ]
    }
   ],
   "source": [
    "interventions.info()"
   ],
   "metadata": {
    "collapsed": false,
    "ExecuteTime": {
     "end_time": "2024-02-17T19:16:21.086881Z",
     "start_time": "2024-02-17T19:16:19.740405Z"
    }
   },
   "id": "3060bb07c99614a2"
  },
  {
   "cell_type": "markdown",
   "source": [
    "eventtype eventlevel"
   ],
   "metadata": {
    "collapsed": false
   },
   "id": "26aaf5af22045628"
  },
  {
   "cell_type": "code",
   "execution_count": 26,
   "outputs": [],
   "source": [
    "# Fill NaN values in eventtype_trip with values from eventtype_firstcall\n",
    "interventions['eventtype'] = interventions['eventtype_trip'].fillna(interventions['eventtype_firstcall'])\n",
    "interventions['eventlevel'] = interventions['eventtype_trip'].fillna(interventions['eventtype_firstcall'])\n",
    "\n",
    "# Drop the temporary columns if needed\n",
    "interventions.drop(columns=['eventtype_trip', 'eventtype_firstcall', 'eventlevel_trip', 'eventlevel_firstcall'], inplace=True)\n",
    "\n"
   ],
   "metadata": {
    "collapsed": false,
    "ExecuteTime": {
     "end_time": "2024-02-17T19:16:17.185061Z",
     "start_time": "2024-02-17T19:16:15.697161Z"
    }
   },
   "id": "8d95bf7455871764"
  },
  {
   "cell_type": "code",
   "execution_count": 51,
   "outputs": [],
   "source": [
    "interventions.to_csv('/Users/ouharuhua/Desktop/Datathon_2024/Processed/interventions.csv', index=False)"
   ],
   "metadata": {
    "collapsed": false,
    "ExecuteTime": {
     "end_time": "2024-02-17T20:20:57.914427Z",
     "start_time": "2024-02-17T20:20:43.321139Z"
    }
   },
   "id": "8992c48124fc2e82"
  },
  {
   "cell_type": "markdown",
   "source": [
    "lat lon"
   ],
   "metadata": {
    "collapsed": false
   },
   "id": "93bdd8620be48359"
  },
  {
   "cell_type": "code",
   "execution_count": 42,
   "outputs": [
    {
     "name": "stdout",
     "output_type": "stream",
     "text": [
      "<class 'pandas.core.frame.DataFrame'>\n",
      "RangeIndex: 1045549 entries, 0 to 1045548\n",
      "Data columns (total 46 columns):\n",
      " #   Column                            Non-Null Count    Dtype  \n",
      "---  ------                            --------------    -----  \n",
      " 0   mission_id                        1045549 non-null  int64  \n",
      " 1   service_name                      948462 non-null   object \n",
      " 2   latitude_permanence               876274 non-null   float64\n",
      " 3   longitude_permanence              956056 non-null   float64\n",
      " 4   permanence_short_name             1041014 non-null  object \n",
      " 5   permanence_long_name              948631 non-null   object \n",
      " 6   vector_type                       1026230 non-null  object \n",
      " 7   cityname_intervention             1045342 non-null  object \n",
      " 8   latitude_intervention             954814 non-null   float64\n",
      " 9   longitude_intervention            1044949 non-null  float64\n",
      " 10  province_invervention             289303 non-null   object \n",
      " 11  t0                                1041831 non-null  object \n",
      " 12  t1                                1026201 non-null  object \n",
      " 13  t1confirmed                       587886 non-null   object \n",
      " 14  t2                                858968 non-null   object \n",
      " 15  t3                                819158 non-null   object \n",
      " 16  t4                                707685 non-null   object \n",
      " 17  t5                                642588 non-null   object \n",
      " 18  t6                                749795 non-null   object \n",
      " 19  t7                                615390 non-null   object \n",
      " 20  intervention_time_(t1reported)    893366 non-null   float64\n",
      " 21  intervention_time_(t1confirmed)   637722 non-null   float64\n",
      " 22  departure_time_(t1reported)       935015 non-null   float64\n",
      " 23  departure_time_(t1confirmed)      661780 non-null   float64\n",
      " 24  file_name                         1045549 non-null  object \n",
      " 25  postalcode_permanence             714927 non-null   float64\n",
      " 26  cityname_permanence               749244 non-null   object \n",
      " 27  streetname_permanence             751638 non-null   object \n",
      " 28  housenumber_permanence            61667 non-null    object \n",
      " 29  postalcode_intervention           115928 non-null   object \n",
      " 30  province_intervention             601881 non-null   object \n",
      " 31  t9                                8965 non-null     object \n",
      " 32  waiting_time                      629835 non-null   float64\n",
      " 33  intervention_duration             542655 non-null   float64\n",
      " 34  unavailable_time                  10915 non-null    float64\n",
      " 35  name_destination_hospital         531617 non-null   object \n",
      " 36  postalcode_destination_hospital   69027 non-null    object \n",
      " 37  cityname_destination_hospital     531660 non-null   object \n",
      " 38  streetname_destination_hospital   531290 non-null   object \n",
      " 39  housenumber_destination_hospital  53933 non-null    object \n",
      " 40  calculated_traveltime_destinatio  453975 non-null   float64\n",
      " 41  calculated_distance_destination   453975 non-null   float64\n",
      " 42  number_of_transported_persons     458894 non-null   float64\n",
      " 43  abandon_reason                    109196 non-null   object \n",
      " 44  eventtype                         1043550 non-null  object \n",
      " 45  eventlevel                        1043550 non-null  object \n",
      "dtypes: float64(15), int64(1), object(30)\n",
      "memory usage: 366.9+ MB\n"
     ]
    }
   ],
   "source": [
    "interventions.info()"
   ],
   "metadata": {
    "collapsed": false,
    "ExecuteTime": {
     "end_time": "2024-02-17T19:54:37.836385Z",
     "start_time": "2024-02-17T19:54:35.218239Z"
    }
   },
   "id": "a147a5728d2c74a9"
  },
  {
   "cell_type": "code",
   "execution_count": 49,
   "outputs": [],
   "source": [
    "# Define the range of latitudes and longitudes\n",
    "min_lat = 49\n",
    "max_lat = 52\n",
    "min_lon = 2\n",
    "max_lon = 7\n",
    "\n",
    "# Adjust latitude values\n",
    "for i in range(len(interventions)):\n",
    "    lat = interventions.loc[i, 'latitude_intervention']\n",
    "    if lat > max_lat:\n",
    "        while lat > max_lat:\n",
    "            lat /= 10\n",
    "    interventions.loc[i, 'latitude_intervention'] = lat\n",
    "\n",
    "# Adjust longitude values\n",
    "for i in range(len(interventions)):\n",
    "    lon = interventions.loc[i, 'longitude_intervention']\n",
    "    if lon > max_lon:\n",
    "        while lon > max_lon:\n",
    "            lon /= 10\n",
    "    interventions.loc[i, 'longitude_intervention'] = lon"
   ],
   "metadata": {
    "collapsed": false,
    "ExecuteTime": {
     "end_time": "2024-02-17T20:16:46.232226Z",
     "start_time": "2024-02-17T20:15:31.621755Z"
    }
   },
   "id": "fa7ecbf461286f41"
  },
  {
   "cell_type": "code",
   "execution_count": 50,
   "outputs": [
    {
     "data": {
      "text/plain": "          mission_id                 service_name  latitude_permanence  \\\n0        21221520003             MV HVP VILV West         5.092528e+01   \n1        21221520004             MV HVP HALL West         5.074320e+01   \n2        21221520007             MV HVP VILV West         5.092528e+01   \n3        21221520007   HV UR VILV AZ Jan Portaels         5.092687e+01   \n4        21221520008  BB BRUX Hôpital Militair KA         5.090533e+01   \n...              ...                          ...                  ...   \n1045544  20222495211                 STJEAN (MED)         5.085393e+10   \n1045545  20222495213             Anderlecht (MED)         5.083266e+09   \n1045546  20222495214           St-Elisabeth (MED)                  NaN   \n1045547  20222495214                    HSP (MED)                  NaN   \n1045548  20222495215                   CITE (MED)         5.085138e+10   \n\n         longitude_permanence permanence_short_name permanence_long_name  \\\n0                4.423057e+00             AVVILV01A       ZW VILVOORDE 1   \n1                4.241053e+00             AVHALL02A           ZW HALLE 2   \n2                4.423057e+00             AVVILV01A       ZW VILVOORDE 1   \n3                4.420968e+00             UVVILV01A        MUG VILVOORDE   \n4                4.387662e+00             ABBRUX13A           AMB HMB 13   \n...                       ...                   ...                  ...   \n1045544          4.359311e+10                  M-SJ           MUG STJEAN   \n1045545          4.311889e+10                A-AND4              ZW AND4   \n1045546                   NaN                 A-ELI         ZW ELISABETH   \n1045547                   NaN                 M-HSP            MUG HSP 1   \n1045548          4.364098e+10                A-CIT1             ZW CITE1   \n\n        vector_type                              cityname_intervention  \\\n0         Ambulance                                           MACHELEN   \n1         Ambulance                                            BEERSEL   \n2         Ambulance                                          VILVOORDE   \n3               MUG                                          VILVOORDE   \n4         Ambulance                                           MACHELEN   \n...             ...                                                ...   \n1045544         MUG  1210 saint-josse-ten-noode (saint-josse-ten-no...   \n1045545         AMB                       1070 anderlecht (anderlecht)   \n1045546        None                                 1180 uccle (uccle)   \n1045547        None                                 1180 uccle (uccle)   \n1045548         AMB                         1000 bruxelles (bruxelles)   \n\n         latitude_intervention  longitude_intervention  ...  \\\n0                    50.896027                4.439554  ...   \n1                    50.745594                4.276564  ...   \n2                    50.931427                4.436373  ...   \n3                    50.931427                4.436373  ...   \n4                    50.884240                4.440077  ...   \n...                        ...                     ...  ...   \n1045544              50.851438                4.369210  ...   \n1045545              50.833990                4.302817  ...   \n1045546              50.814874                4.339438  ...   \n1045547              50.814874                4.339438  ...   \n1045548              50.841062                4.389640  ...   \n\n        postalcode_destination_hospital cityname_destination_hospital  \\\n0                                   NaN                           NaN   \n1                                   NaN                           NaN   \n2                                   NaN                           NaN   \n3                                   NaN                           NaN   \n4                                   NaN                           NaN   \n...                                 ...                           ...   \n1045544                             NaN                          None   \n1045545                             NaN                          None   \n1045546                             NaN                          None   \n1045547                             NaN                          None   \n1045548                             NaN    1040 Etterbeek (Etterbeek)   \n\n        streetname_destination_hospital housenumber_destination_hospital  \\\n0                                   NaN                              NaN   \n1                                   NaN                              NaN   \n2                                   NaN                              NaN   \n3                                   NaN                              NaN   \n4                                   NaN                              NaN   \n...                                 ...                              ...   \n1045544                            None                             None   \n1045545                            None                             None   \n1045546                            None                             None   \n1045547                            None                             None   \n1045548                  Linthoutstraat                             None   \n\n        calculated_traveltime_destinatio calculated_distance_destination  \\\n0                                    NaN                             NaN   \n1                                    NaN                             NaN   \n2                                    NaN                             NaN   \n3                                    NaN                             NaN   \n4                                    NaN                             NaN   \n...                                  ...                             ...   \n1045544                              NaN                             NaN   \n1045545                              NaN                             NaN   \n1045546                              NaN                             NaN   \n1045547                              NaN                             NaN   \n1045548                              NaN                             NaN   \n\n        number_of_transported_persons abandon_reason  \\\n0                                 NaN            NaN   \n1                                 NaN            NaN   \n2                                 NaN            NaN   \n3                                 NaN            NaN   \n4                                 NaN            NaN   \n...                               ...            ...   \n1045544                           NaN           None   \n1045545                           NaN          Error   \n1045546                           1.0           None   \n1045547                           NaN           None   \n1045548                           1.0           None   \n\n                                              eventtype  \\\n0                                  P034 - SCHEDELTRAUMA   \n1                       P010 - ADEMHALINGSMOEILIJKHEDEN   \n2        Y_TI BEVRIJDING PERSOON BEKLEMD/OPGESLOTEN+DGH   \n3        Y_TI BEVRIJDING PERSOON BEKLEMD/OPGESLOTEN+DGH   \n4                            P020 - INTOXICATIE ALCOHOL   \n...                                                 ...   \n1045544                                            P011   \n1045545                                            P096   \n1045546                                            P015   \n1045547                                            P015   \n1045548                                            P033   \n\n                                             eventlevel  \n0                                  P034 - SCHEDELTRAUMA  \n1                       P010 - ADEMHALINGSMOEILIJKHEDEN  \n2        Y_TI BEVRIJDING PERSOON BEKLEMD/OPGESLOTEN+DGH  \n3        Y_TI BEVRIJDING PERSOON BEKLEMD/OPGESLOTEN+DGH  \n4                            P020 - INTOXICATIE ALCOHOL  \n...                                                 ...  \n1045544                                            P011  \n1045545                                            P096  \n1045546                                            P015  \n1045547                                            P015  \n1045548                                            P033  \n\n[1045549 rows x 46 columns]",
      "text/html": "<div>\n<style scoped>\n    .dataframe tbody tr th:only-of-type {\n        vertical-align: middle;\n    }\n\n    .dataframe tbody tr th {\n        vertical-align: top;\n    }\n\n    .dataframe thead th {\n        text-align: right;\n    }\n</style>\n<table border=\"1\" class=\"dataframe\">\n  <thead>\n    <tr style=\"text-align: right;\">\n      <th></th>\n      <th>mission_id</th>\n      <th>service_name</th>\n      <th>latitude_permanence</th>\n      <th>longitude_permanence</th>\n      <th>permanence_short_name</th>\n      <th>permanence_long_name</th>\n      <th>vector_type</th>\n      <th>cityname_intervention</th>\n      <th>latitude_intervention</th>\n      <th>longitude_intervention</th>\n      <th>...</th>\n      <th>postalcode_destination_hospital</th>\n      <th>cityname_destination_hospital</th>\n      <th>streetname_destination_hospital</th>\n      <th>housenumber_destination_hospital</th>\n      <th>calculated_traveltime_destinatio</th>\n      <th>calculated_distance_destination</th>\n      <th>number_of_transported_persons</th>\n      <th>abandon_reason</th>\n      <th>eventtype</th>\n      <th>eventlevel</th>\n    </tr>\n  </thead>\n  <tbody>\n    <tr>\n      <th>0</th>\n      <td>21221520003</td>\n      <td>MV HVP VILV West</td>\n      <td>5.092528e+01</td>\n      <td>4.423057e+00</td>\n      <td>AVVILV01A</td>\n      <td>ZW VILVOORDE 1</td>\n      <td>Ambulance</td>\n      <td>MACHELEN</td>\n      <td>50.896027</td>\n      <td>4.439554</td>\n      <td>...</td>\n      <td>NaN</td>\n      <td>NaN</td>\n      <td>NaN</td>\n      <td>NaN</td>\n      <td>NaN</td>\n      <td>NaN</td>\n      <td>NaN</td>\n      <td>NaN</td>\n      <td>P034 - SCHEDELTRAUMA</td>\n      <td>P034 - SCHEDELTRAUMA</td>\n    </tr>\n    <tr>\n      <th>1</th>\n      <td>21221520004</td>\n      <td>MV HVP HALL West</td>\n      <td>5.074320e+01</td>\n      <td>4.241053e+00</td>\n      <td>AVHALL02A</td>\n      <td>ZW HALLE 2</td>\n      <td>Ambulance</td>\n      <td>BEERSEL</td>\n      <td>50.745594</td>\n      <td>4.276564</td>\n      <td>...</td>\n      <td>NaN</td>\n      <td>NaN</td>\n      <td>NaN</td>\n      <td>NaN</td>\n      <td>NaN</td>\n      <td>NaN</td>\n      <td>NaN</td>\n      <td>NaN</td>\n      <td>P010 - ADEMHALINGSMOEILIJKHEDEN</td>\n      <td>P010 - ADEMHALINGSMOEILIJKHEDEN</td>\n    </tr>\n    <tr>\n      <th>2</th>\n      <td>21221520007</td>\n      <td>MV HVP VILV West</td>\n      <td>5.092528e+01</td>\n      <td>4.423057e+00</td>\n      <td>AVVILV01A</td>\n      <td>ZW VILVOORDE 1</td>\n      <td>Ambulance</td>\n      <td>VILVOORDE</td>\n      <td>50.931427</td>\n      <td>4.436373</td>\n      <td>...</td>\n      <td>NaN</td>\n      <td>NaN</td>\n      <td>NaN</td>\n      <td>NaN</td>\n      <td>NaN</td>\n      <td>NaN</td>\n      <td>NaN</td>\n      <td>NaN</td>\n      <td>Y_TI BEVRIJDING PERSOON BEKLEMD/OPGESLOTEN+DGH</td>\n      <td>Y_TI BEVRIJDING PERSOON BEKLEMD/OPGESLOTEN+DGH</td>\n    </tr>\n    <tr>\n      <th>3</th>\n      <td>21221520007</td>\n      <td>HV UR VILV AZ Jan Portaels</td>\n      <td>5.092687e+01</td>\n      <td>4.420968e+00</td>\n      <td>UVVILV01A</td>\n      <td>MUG VILVOORDE</td>\n      <td>MUG</td>\n      <td>VILVOORDE</td>\n      <td>50.931427</td>\n      <td>4.436373</td>\n      <td>...</td>\n      <td>NaN</td>\n      <td>NaN</td>\n      <td>NaN</td>\n      <td>NaN</td>\n      <td>NaN</td>\n      <td>NaN</td>\n      <td>NaN</td>\n      <td>NaN</td>\n      <td>Y_TI BEVRIJDING PERSOON BEKLEMD/OPGESLOTEN+DGH</td>\n      <td>Y_TI BEVRIJDING PERSOON BEKLEMD/OPGESLOTEN+DGH</td>\n    </tr>\n    <tr>\n      <th>4</th>\n      <td>21221520008</td>\n      <td>BB BRUX Hôpital Militair KA</td>\n      <td>5.090533e+01</td>\n      <td>4.387662e+00</td>\n      <td>ABBRUX13A</td>\n      <td>AMB HMB 13</td>\n      <td>Ambulance</td>\n      <td>MACHELEN</td>\n      <td>50.884240</td>\n      <td>4.440077</td>\n      <td>...</td>\n      <td>NaN</td>\n      <td>NaN</td>\n      <td>NaN</td>\n      <td>NaN</td>\n      <td>NaN</td>\n      <td>NaN</td>\n      <td>NaN</td>\n      <td>NaN</td>\n      <td>P020 - INTOXICATIE ALCOHOL</td>\n      <td>P020 - INTOXICATIE ALCOHOL</td>\n    </tr>\n    <tr>\n      <th>...</th>\n      <td>...</td>\n      <td>...</td>\n      <td>...</td>\n      <td>...</td>\n      <td>...</td>\n      <td>...</td>\n      <td>...</td>\n      <td>...</td>\n      <td>...</td>\n      <td>...</td>\n      <td>...</td>\n      <td>...</td>\n      <td>...</td>\n      <td>...</td>\n      <td>...</td>\n      <td>...</td>\n      <td>...</td>\n      <td>...</td>\n      <td>...</td>\n      <td>...</td>\n      <td>...</td>\n    </tr>\n    <tr>\n      <th>1045544</th>\n      <td>20222495211</td>\n      <td>STJEAN (MED)</td>\n      <td>5.085393e+10</td>\n      <td>4.359311e+10</td>\n      <td>M-SJ</td>\n      <td>MUG STJEAN</td>\n      <td>MUG</td>\n      <td>1210 saint-josse-ten-noode (saint-josse-ten-no...</td>\n      <td>50.851438</td>\n      <td>4.369210</td>\n      <td>...</td>\n      <td>NaN</td>\n      <td>None</td>\n      <td>None</td>\n      <td>None</td>\n      <td>NaN</td>\n      <td>NaN</td>\n      <td>NaN</td>\n      <td>None</td>\n      <td>P011</td>\n      <td>P011</td>\n    </tr>\n    <tr>\n      <th>1045545</th>\n      <td>20222495213</td>\n      <td>Anderlecht (MED)</td>\n      <td>5.083266e+09</td>\n      <td>4.311889e+10</td>\n      <td>A-AND4</td>\n      <td>ZW AND4</td>\n      <td>AMB</td>\n      <td>1070 anderlecht (anderlecht)</td>\n      <td>50.833990</td>\n      <td>4.302817</td>\n      <td>...</td>\n      <td>NaN</td>\n      <td>None</td>\n      <td>None</td>\n      <td>None</td>\n      <td>NaN</td>\n      <td>NaN</td>\n      <td>NaN</td>\n      <td>Error</td>\n      <td>P096</td>\n      <td>P096</td>\n    </tr>\n    <tr>\n      <th>1045546</th>\n      <td>20222495214</td>\n      <td>St-Elisabeth (MED)</td>\n      <td>NaN</td>\n      <td>NaN</td>\n      <td>A-ELI</td>\n      <td>ZW ELISABETH</td>\n      <td>None</td>\n      <td>1180 uccle (uccle)</td>\n      <td>50.814874</td>\n      <td>4.339438</td>\n      <td>...</td>\n      <td>NaN</td>\n      <td>None</td>\n      <td>None</td>\n      <td>None</td>\n      <td>NaN</td>\n      <td>NaN</td>\n      <td>1.0</td>\n      <td>None</td>\n      <td>P015</td>\n      <td>P015</td>\n    </tr>\n    <tr>\n      <th>1045547</th>\n      <td>20222495214</td>\n      <td>HSP (MED)</td>\n      <td>NaN</td>\n      <td>NaN</td>\n      <td>M-HSP</td>\n      <td>MUG HSP 1</td>\n      <td>None</td>\n      <td>1180 uccle (uccle)</td>\n      <td>50.814874</td>\n      <td>4.339438</td>\n      <td>...</td>\n      <td>NaN</td>\n      <td>None</td>\n      <td>None</td>\n      <td>None</td>\n      <td>NaN</td>\n      <td>NaN</td>\n      <td>NaN</td>\n      <td>None</td>\n      <td>P015</td>\n      <td>P015</td>\n    </tr>\n    <tr>\n      <th>1045548</th>\n      <td>20222495215</td>\n      <td>CITE (MED)</td>\n      <td>5.085138e+10</td>\n      <td>4.364098e+10</td>\n      <td>A-CIT1</td>\n      <td>ZW CITE1</td>\n      <td>AMB</td>\n      <td>1000 bruxelles (bruxelles)</td>\n      <td>50.841062</td>\n      <td>4.389640</td>\n      <td>...</td>\n      <td>NaN</td>\n      <td>1040 Etterbeek (Etterbeek)</td>\n      <td>Linthoutstraat</td>\n      <td>None</td>\n      <td>NaN</td>\n      <td>NaN</td>\n      <td>1.0</td>\n      <td>None</td>\n      <td>P033</td>\n      <td>P033</td>\n    </tr>\n  </tbody>\n</table>\n<p>1045549 rows × 46 columns</p>\n</div>"
     },
     "execution_count": 50,
     "metadata": {},
     "output_type": "execute_result"
    }
   ],
   "source": [
    "interventions"
   ],
   "metadata": {
    "collapsed": false,
    "ExecuteTime": {
     "end_time": "2024-02-17T20:16:47.140492Z",
     "start_time": "2024-02-17T20:16:46.231124Z"
    }
   },
   "id": "2710eadc10beea8e"
  },
  {
   "cell_type": "code",
   "execution_count": null,
   "outputs": [],
   "source": [],
   "metadata": {
    "collapsed": false
   },
   "id": "92468cf2d7df5d90"
  },
  {
   "cell_type": "markdown",
   "source": [],
   "metadata": {
    "collapsed": false
   },
   "id": "ade31b2c35ccb505"
  }
 ],
 "metadata": {
  "kernelspec": {
   "display_name": "Python 3",
   "language": "python",
   "name": "python3"
  },
  "language_info": {
   "codemirror_mode": {
    "name": "ipython",
    "version": 2
   },
   "file_extension": ".py",
   "mimetype": "text/x-python",
   "name": "python",
   "nbconvert_exporter": "python",
   "pygments_lexer": "ipython2",
   "version": "2.7.6"
  }
 },
 "nbformat": 4,
 "nbformat_minor": 5
}
