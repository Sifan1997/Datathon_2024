{
 "cells": [
  {
   "cell_type": "code",
   "execution_count": 66,
   "id": "initial_id",
   "metadata": {
    "collapsed": true,
    "ExecuteTime": {
     "end_time": "2024-02-18T16:58:30.266063Z",
     "start_time": "2024-02-18T16:58:30.075372Z"
    }
   },
   "outputs": [],
   "source": [
    "import pandas as pd\n",
    "import numpy as np\n",
    "import matplotlib.pyplot as plt"
   ]
  },
  {
   "cell_type": "code",
   "execution_count": 67,
   "outputs": [],
   "source": [
    "cad = pd.read_parquet('/Users/ouharuhua/Desktop/Datathon_2024/Data/cad9.parquet.gzip', engine='pyarrow')\n",
    "inverventions1 = pd.read_parquet('/Users/ouharuhua/Desktop/Datathon_2024/Data/interventions1.parquet', engine='pyarrow')\n",
    "interventions2 = pd.read_parquet('/Users/ouharuhua/Desktop/Datathon_2024/Data/interventions2.parquet', engine='pyarrow')\n",
    "interventions3 = pd.read_parquet('/Users/ouharuhua/Desktop/Datathon_2024/Data/interventions3.parquet', engine='pyarrow')\n",
    "interventions_bxl1 = pd.read_parquet('/Users/ouharuhua/Desktop/Datathon_2024/Data/interventions_bxl.parquet.gzip', engine='pyarrow')\n",
    "interventions_bxl2 = pd.read_parquet('/Users/ouharuhua/Desktop/Datathon_2024/Data/interventions_bxl2.parquet.gzip', engine='pyarrow')"
   ],
   "metadata": {
    "collapsed": false,
    "ExecuteTime": {
     "end_time": "2024-02-18T16:58:34.161957Z",
     "start_time": "2024-02-18T16:58:30.275450Z"
    }
   },
   "id": "bc98c728d11178e1"
  },
  {
   "cell_type": "code",
   "execution_count": 68,
   "outputs": [
    {
     "name": "stdout",
     "output_type": "stream",
     "text": [
      "['province', 'mission_id', 'service_name', 'latitude_permanence', 'longitude_permanence', 'permanence_short_name', 'permanence_long_name', 'vector_type', 'eventtype_trip', 'eventsubtype_trip', 'eventlevel_trip', 'cityname_intervention', 'citysectionname_intervention', 'latitude_intervention', 'longitude_intervention', 'province_invervention', 't0', 't1', 't1confirmed', 't2', 't3', 't4', 't5', 't6', 't7', 'name_destination_hospital', 'intervention_time_(t1reported)', 'intervention_time_(t1confirmed)', 'departure_time_(t1reported)', 'departure_time_(t1confirmed)', 'ui', 'id', 'mission_nr', 'ambucode', 'unit_id', 'file_name']\n",
      "['mission_id', 'service_name', 'postalcode_permanence', 'cityname_permanence', 'streetname_permanence', 'housenumber_permanence', 'latitude_permanence', 'longitude_permanence', 'permanence_short_name', 'permanence_long_name', 'vector_type', 'eventtype_firstcall', 'eventlevel_firstcall', 'eventtype_trip', 'eventlevel_trip', 'postalcode_intervention', 'cityname_intervention', 'latitude_intervention', 'longitude_intervention', 'province_intervention', 't0', 't1', 't1confirmed', 't2', 't3', 't4', 't5', 't6', 't7', 't9', 'intervention_time_(t1reported)', 'intervention_time_(t1confirmed)', 'waiting_time', 'intervention_duration', 'departure_time_(t1reported)', 'departure_time_(t1confirmed)', 'unavailable_time', 'name_destination_hospital', 'postalcode_destination_hospital', 'cityname_destination_hospital', 'streetname_destination_hospital', 'housenumber_destination_hospital', 'calculated_traveltime_destinatio', 'calculated_distance_destination', 'number_of_transported_persons', 'abandon_reason', 'file_name']\n",
      "['mission_id', 'service_name', 'postalcode_permanence', 'cityname_permanence', 'streetname_permanence', 'housenumber_permanence', 'latitude_permanence', 'longitude_permanence', 'permanence_short_name', 'permanence_long_name', 'vector_type', 'eventtype_firstcall', 'eventlevel_firstcall', 'eventtype_trip', 'eventlevel_trip', 'postalcode_intervention', 'cityname_intervention', 'latitude_intervention', 'longitude_intervention', 'province_intervention', 't0', 't1', 't1confirmed', 't2', 't3', 't4', 't5', 't6', 't7', 't9', 'intervention_time_(t1reported)', 'intervention_time_(t1confirmed)', 'waiting_time', 'intervention_duration', 'departure_time_(t1reported)', 'departure_time_(t1confirmed)', 'unavailable_time', 'name_destination_hospital', 'postalcode_destination_hospital', 'cityname_destination_hospital', 'streetname_destination_hospital', 'housenumber_destination_hospital', 'calculated_traveltime_destinatio', 'calculated_distance_destination', 'number_of_transported_persons', 'abandon_reason', 'file_name']\n",
      "['mission_id', 'service_name', 'postalcode_permanence', 'cityname_permanence', 'streetname_permanence', 'housenumber_permanence', 'latitude_permanence', 'longitude_permanence', 'permanence_short_name', 'permanence_long_name', 'vector_type', 'eventtype_firstcall', 'eventlevel_firstcall', 'eventtype_trip', 'eventlevel_trip', 'postalcode_intervention', 'cityname_intervention', 'latitude_intervention', 'longitude_intervention', 'province_intervention', 't0', 't1', 't1confirmed', 't2', 't3', 't4', 't5', 't6', 't7', 't9', 'intervention_time_(t1reported)', 'intervention_time_(t1confirmed)', 'waiting_time', 'intervention_duration', 'departure_time_(t1reported)', 'departure_time_(t1confirmed)', 'unavailable_time', 'name_destination_hospital', 'postalcode_destination_hospital', 'cityname_destination_hospital', 'streetname_destination_hospital', 'housenumber_destination_hospital', 'calculated_traveltime_destinatio', 'calculated_distance_destination', 'number_of_transported_persons', 'abandon_reason', 'file_name']\n",
      "['mission_id', 'service_name', 'postalcode_permanence', 'cityname_permanence', 'streetname_permanence', 'housenumber_permanence', 'latitude_permanence', 'longitude_permanence', 'permanence_short_name', 'permanence_long_name', 'vector_type', 'eventtype_firstcall', 'eventlevel_firstcall', 'eventtype_trip', 'eventlevel_trip', 'postalcode_intervention', 'cityname_intervention', 'latitude_intervention', 'longitude_intervention', 't0', 't1', 't1confirmed', 't2', 't3', 't4', 't5', 't6', 't7', 't9', 'intervention_time_t1reported', 'waiting_time', 'intervention_duration', 'departure_time_t1reported', 'unavailable_time', 'name_destination_hospital', 'postalcode_destination_hospital', 'cityname_destination_hospital', 'streetname_destination_hospital', 'housenumber_destination_hospital', 'calculated_traveltime_departure_', 'calculated_distance_departure_to', 'calculated_traveltime_destinatio', 'calculated_distance_destination_', 'number_of_transported_persons', 'abandon_reason', 'file_name']\n",
      "['mission_id', 't0', 'cityname_intervention', 'longitude_intervention', 'latitude_intervention', 'description_nl', 'ic_description_nl', 'eventtype_and_eventlevel', 'creationtime', 'number_of_transported_persons', 'permanence_long_name_nl', 'permanence_long_name_fr', 'permanence_short_name_nl', 'permanence_short_name_fr', 'service_name_nl', 'service_name_fr', 'cityname_permanence', 'streetname_permanence', 'housenumber_permanence', 'latitude_permanence', 'longitude_permanence', 'vector_type_nl', 'vector_type_fr', 'name_destination_hospital', 'cityname_destination_hospital', 'streetname_destination_hospital', 'housenumber_destination_hospital', 'abandon_reason_nl', 'abandon_reason_fr', 't1', 't2', 't3', 't4', 't5', 't6', 't7', 'file_name']\n"
     ]
    }
   ],
   "source": [
    "# Assuming dfs is a list of DataFrames\n",
    "dfs = [cad, inverventions1, interventions2, interventions3, interventions_bxl1, interventions_bxl2]  # List of your DataFrames\n",
    "file_names = [\"cad9\", \"inverventions1\", \"interventions2\",'interventions3','interventions_bxl','interventions_bxl2']  # List of file names\n",
    "\n",
    "for df,file_name in zip(dfs, file_names):\n",
    "    # Convert column names from uppercase to lowercase\n",
    "    df.rename(columns=lambda x: x.lower(), inplace=True)\n",
    "    \n",
    "    # Strip whitespace from column names\n",
    "    df.columns = [col.strip() for col in df.columns]\n",
    "    # Replace blank spaces with underscores in column names\n",
    "    df.rename(columns=lambda x: x.replace(' ', '_'), inplace=True)\n",
    "    \n",
    "    # Add a new column 'file_name' with the name of the DataFrame\n",
    "    df['file_name'] = file_name\n",
    "    \n",
    "    print(df.columns.tolist())"
   ],
   "metadata": {
    "collapsed": false,
    "ExecuteTime": {
     "end_time": "2024-02-18T16:58:35.202882Z",
     "start_time": "2024-02-18T16:58:35.198629Z"
    }
   },
   "id": "37ca16814ee002ba"
  },
  {
   "cell_type": "markdown",
   "source": [
    "cad9"
   ],
   "metadata": {
    "collapsed": false
   },
   "id": "4ac71ff533686860"
  },
  {
   "cell_type": "code",
   "execution_count": 69,
   "outputs": [],
   "source": [
    "# Delete columns\n",
    "columns_to_delete = ['citysectionname_intervention', 'province', 'name_destination_hospital','ui','id','mission_nr','ambucode','unit_id','eventsubtype_trip']\n",
    "cad.drop(columns=columns_to_delete, inplace=True)"
   ],
   "metadata": {
    "collapsed": false,
    "ExecuteTime": {
     "end_time": "2024-02-18T16:58:35.539316Z",
     "start_time": "2024-02-18T16:58:35.208114Z"
    }
   },
   "id": "6ab4d20de2181354"
  },
  {
   "cell_type": "markdown",
   "source": [
    "Intervention bxl"
   ],
   "metadata": {
    "collapsed": false
   },
   "id": "14af8c5654aa48ad"
  },
  {
   "cell_type": "code",
   "execution_count": 70,
   "outputs": [],
   "source": [
    "# Extract eventlevel using regular expression\n",
    "interventions_bxl2['eventlevel_trip'] = interventions_bxl2['eventtype_and_eventlevel'].str.extract('(N\\d{2})', expand=False)\n",
    "\n",
    "# Remove series of characters from the column 'eventtype_and_eventlevel'\n",
    "interventions_bxl2['eventtype_trip'] = interventions_bxl2['eventtype_and_eventlevel'].str.replace(r'N0[1-6]\\s*-\\s*', '', regex=True)\n",
    "\n",
    "# Rename columns\n",
    "interventions_bxl2.rename(columns={'service_name_nl': 'service_name', 'permanence_long_name_nl': 'permanence_long_name',\n",
    "                                  'permanence_short_name_nl': 'permanence_short_name', 'vector_type_nl': 'vector_type', \n",
    "                                  'abandon_reason_nl': 'abandon_reason'}, inplace=True)\n",
    "\n",
    "# Delete columns\n",
    "columns_to_delete = ['service_name_fr', 'permanence_long_name_fr', 'permanence_short_name_fr','vector_type_fr',\n",
    "                     'eventtype_and_eventlevel','description_nl','ic_description_nl','creationtime','abandon_reason_fr']\n",
    "interventions_bxl2.drop(columns=columns_to_delete, inplace=True)\n"
   ],
   "metadata": {
    "collapsed": false,
    "ExecuteTime": {
     "end_time": "2024-02-18T16:58:35.584929Z",
     "start_time": "2024-02-18T16:58:35.532001Z"
    }
   },
   "id": "4dfb38b6e1339577"
  },
  {
   "cell_type": "code",
   "execution_count": 71,
   "outputs": [],
   "source": [
    "#interventions_bxl1.to_csv('/Users/ouharuhua/Desktop/Datathon_2024/Processed/intervention_bxl1.csv', index=False)\n",
    "#interventions_bxl2.to_csv('/Users/ouharuhua/Desktop/Datathon_2024/Processed/intervention_bxl2.csv', index=False)"
   ],
   "metadata": {
    "collapsed": false,
    "ExecuteTime": {
     "end_time": "2024-02-18T16:58:35.585145Z",
     "start_time": "2024-02-18T16:58:35.556872Z"
    }
   },
   "id": "c06410bfbb680d0"
  },
  {
   "cell_type": "code",
   "execution_count": 72,
   "outputs": [],
   "source": [
    "# Concatenate rows\n",
    "interventions_bxl = pd.concat([interventions_bxl1, interventions_bxl2], ignore_index=True)\n",
    "#interventions_bxl.to_csv('/Users/ouharuhua/Desktop/Datathon_2024/Processed/intervention_bxl.csv', index=False)"
   ],
   "metadata": {
    "collapsed": false,
    "ExecuteTime": {
     "end_time": "2024-02-18T16:58:35.803794Z",
     "start_time": "2024-02-18T16:58:35.570425Z"
    }
   },
   "id": "9d2f1f9f8ad3de4b"
  },
  {
   "cell_type": "code",
   "execution_count": 73,
   "outputs": [],
   "source": [
    "# Rename columns\n",
    "interventions_bxl.rename(columns={'intervention_time_t1reported': 'intervention_time_(t1reported)', \n",
    "                                  'departure_time_t1reported': 'departure_time_(t1reported)',\n",
    "                                  'calculated_distance_destination_': 'calculated_distance_destination'}, inplace=True)\n",
    "\n",
    "# Delete columns\n",
    "columns_to_delete = ['calculated_traveltime_departure_', 'calculated_distance_departure_to']\n",
    "interventions_bxl.drop(columns=columns_to_delete, inplace=True)"
   ],
   "metadata": {
    "collapsed": false,
    "ExecuteTime": {
     "end_time": "2024-02-18T16:58:35.871563Z",
     "start_time": "2024-02-18T16:58:35.803572Z"
    }
   },
   "id": "98aa276322fddc31"
  },
  {
   "cell_type": "markdown",
   "source": [
    "Intervention"
   ],
   "metadata": {
    "collapsed": false
   },
   "id": "ce20e4f559bc6f3f"
  },
  {
   "cell_type": "code",
   "execution_count": 74,
   "outputs": [],
   "source": [
    "# Concatenate rows\n",
    "interventions_123 = pd.concat([inverventions1, interventions2, interventions3], ignore_index=True)\n"
   ],
   "metadata": {
    "collapsed": false,
    "ExecuteTime": {
     "end_time": "2024-02-18T16:58:36.973702Z",
     "start_time": "2024-02-18T16:58:35.872397Z"
    }
   },
   "id": "922bc45cd55ccb26"
  },
  {
   "cell_type": "code",
   "execution_count": 75,
   "outputs": [
    {
     "name": "stdout",
     "output_type": "stream",
     "text": [
      "['mission_id', 'service_name', 'latitude_permanence', 'longitude_permanence', 'permanence_short_name', 'permanence_long_name', 'vector_type', 'eventtype_trip', 'eventlevel_trip', 'cityname_intervention', 'latitude_intervention', 'longitude_intervention', 'province_invervention', 't0', 't1', 't1confirmed', 't2', 't3', 't4', 't5', 't6', 't7', 'intervention_time_(t1reported)', 'intervention_time_(t1confirmed)', 'departure_time_(t1reported)', 'departure_time_(t1confirmed)', 'file_name']\n",
      "['mission_id', 'service_name', 'postalcode_permanence', 'cityname_permanence', 'streetname_permanence', 'housenumber_permanence', 'latitude_permanence', 'longitude_permanence', 'permanence_short_name', 'permanence_long_name', 'vector_type', 'eventtype_firstcall', 'eventlevel_firstcall', 'eventtype_trip', 'eventlevel_trip', 'postalcode_intervention', 'cityname_intervention', 'latitude_intervention', 'longitude_intervention', 'province_intervention', 't0', 't1', 't1confirmed', 't2', 't3', 't4', 't5', 't6', 't7', 't9', 'intervention_time_(t1reported)', 'intervention_time_(t1confirmed)', 'waiting_time', 'intervention_duration', 'departure_time_(t1reported)', 'departure_time_(t1confirmed)', 'unavailable_time', 'name_destination_hospital', 'postalcode_destination_hospital', 'cityname_destination_hospital', 'streetname_destination_hospital', 'housenumber_destination_hospital', 'calculated_traveltime_destinatio', 'calculated_distance_destination', 'number_of_transported_persons', 'abandon_reason', 'file_name']\n",
      "['mission_id', 'service_name', 'postalcode_permanence', 'cityname_permanence', 'streetname_permanence', 'housenumber_permanence', 'latitude_permanence', 'longitude_permanence', 'permanence_short_name', 'permanence_long_name', 'vector_type', 'eventtype_firstcall', 'eventlevel_firstcall', 'eventtype_trip', 'eventlevel_trip', 'postalcode_intervention', 'cityname_intervention', 'latitude_intervention', 'longitude_intervention', 't0', 't1', 't1confirmed', 't2', 't3', 't4', 't5', 't6', 't7', 't9', 'intervention_time_(t1reported)', 'waiting_time', 'intervention_duration', 'departure_time_(t1reported)', 'unavailable_time', 'name_destination_hospital', 'postalcode_destination_hospital', 'cityname_destination_hospital', 'streetname_destination_hospital', 'housenumber_destination_hospital', 'calculated_traveltime_destinatio', 'calculated_distance_destination', 'number_of_transported_persons', 'abandon_reason', 'file_name']\n"
     ]
    }
   ],
   "source": [
    "# Assuming dfs is a list of DataFrames\n",
    "dfs = [cad, interventions_123, interventions_bxl]  # List of your DataFrames\n",
    "\n",
    "for i, df in enumerate(dfs):\n",
    "    # Convert column names from uppercase to lowercase\n",
    "    df.rename(columns=lambda x: x.lower(), inplace=True)\n",
    "    # Replace blank spaces with underscores in column names\n",
    "    df.rename(columns=lambda x: x.replace(' ', '_'), inplace=True)\n",
    "    print(df.columns.tolist())"
   ],
   "metadata": {
    "collapsed": false,
    "ExecuteTime": {
     "end_time": "2024-02-18T16:58:36.977375Z",
     "start_time": "2024-02-18T16:58:36.973592Z"
    }
   },
   "id": "6e208a94d4eec532"
  },
  {
   "cell_type": "code",
   "execution_count": 76,
   "outputs": [],
   "source": [
    "# Concatenate rows\n",
    "interventions = pd.concat([cad, interventions_123, interventions_bxl], ignore_index=True)\n"
   ],
   "metadata": {
    "collapsed": false,
    "ExecuteTime": {
     "end_time": "2024-02-18T16:58:38.117394Z",
     "start_time": "2024-02-18T16:58:36.981110Z"
    }
   },
   "id": "cd9a35aa6ac031d8"
  },
  {
   "cell_type": "markdown",
   "source": [
    "eventtype eventlevel"
   ],
   "metadata": {
    "collapsed": false
   },
   "id": "26aaf5af22045628"
  },
  {
   "cell_type": "code",
   "execution_count": 77,
   "outputs": [],
   "source": [
    "# Fill NaN values in eventtype_trip with values from eventtype_firstcall\n",
    "interventions['eventtype'] = interventions['eventtype_trip'].fillna(interventions['eventtype_firstcall'])\n",
    "interventions['eventlevel'] = interventions['eventlevel_trip'].fillna(interventions['eventlevel_firstcall'])\n",
    "\n",
    "# Drop the temporary columns if needed\n",
    "interventions.drop(columns=['eventtype_trip', 'eventtype_firstcall', 'eventlevel_trip', 'eventlevel_firstcall'], inplace=True)\n"
   ],
   "metadata": {
    "collapsed": false,
    "ExecuteTime": {
     "end_time": "2024-02-18T16:58:39.169184Z",
     "start_time": "2024-02-18T16:58:38.114727Z"
    }
   },
   "id": "8d95bf7455871764"
  },
  {
   "cell_type": "code",
   "execution_count": 78,
   "outputs": [],
   "source": [
    "# Remove series of characters from the column 'eventtype_and_eventlevel'\n",
    "interventions['eventtype'] = interventions['eventtype'].str.replace('- ', '', regex=True)\n",
    "# interventions['eventlevel'] = interventions['eventlevel'].str.replace('0', '', regex=True)\n"
   ],
   "metadata": {
    "collapsed": false,
    "ExecuteTime": {
     "end_time": "2024-02-18T16:58:39.458183Z",
     "start_time": "2024-02-18T16:58:39.166425Z"
    }
   },
   "id": "cfd837eb37b48122"
  },
  {
   "cell_type": "markdown",
   "source": [
    "lat lon"
   ],
   "metadata": {
    "collapsed": false
   },
   "id": "93bdd8620be48359"
  },
  {
   "cell_type": "code",
   "execution_count": 79,
   "outputs": [
    {
     "name": "stdout",
     "output_type": "stream",
     "text": [
      "<class 'pandas.core.frame.DataFrame'>\n",
      "RangeIndex: 1045549 entries, 0 to 1045548\n",
      "Data columns (total 46 columns):\n",
      " #   Column                            Non-Null Count    Dtype  \n",
      "---  ------                            --------------    -----  \n",
      " 0   mission_id                        1045549 non-null  int64  \n",
      " 1   service_name                      948462 non-null   object \n",
      " 2   latitude_permanence               876274 non-null   float64\n",
      " 3   longitude_permanence              956056 non-null   float64\n",
      " 4   permanence_short_name             1041014 non-null  object \n",
      " 5   permanence_long_name              948631 non-null   object \n",
      " 6   vector_type                       1026230 non-null  object \n",
      " 7   cityname_intervention             1045342 non-null  object \n",
      " 8   latitude_intervention             954814 non-null   float64\n",
      " 9   longitude_intervention            1044949 non-null  float64\n",
      " 10  province_invervention             289303 non-null   object \n",
      " 11  t0                                1041831 non-null  object \n",
      " 12  t1                                1026201 non-null  object \n",
      " 13  t1confirmed                       587886 non-null   object \n",
      " 14  t2                                858968 non-null   object \n",
      " 15  t3                                819158 non-null   object \n",
      " 16  t4                                707685 non-null   object \n",
      " 17  t5                                642588 non-null   object \n",
      " 18  t6                                749795 non-null   object \n",
      " 19  t7                                615390 non-null   object \n",
      " 20  intervention_time_(t1reported)    893366 non-null   float64\n",
      " 21  intervention_time_(t1confirmed)   637722 non-null   float64\n",
      " 22  departure_time_(t1reported)       935015 non-null   float64\n",
      " 23  departure_time_(t1confirmed)      661780 non-null   float64\n",
      " 24  file_name                         1045549 non-null  object \n",
      " 25  postalcode_permanence             714927 non-null   float64\n",
      " 26  cityname_permanence               749244 non-null   object \n",
      " 27  streetname_permanence             751638 non-null   object \n",
      " 28  housenumber_permanence            61667 non-null    object \n",
      " 29  postalcode_intervention           115928 non-null   object \n",
      " 30  province_intervention             601881 non-null   object \n",
      " 31  t9                                8965 non-null     object \n",
      " 32  waiting_time                      629835 non-null   float64\n",
      " 33  intervention_duration             542655 non-null   float64\n",
      " 34  unavailable_time                  10915 non-null    float64\n",
      " 35  name_destination_hospital         531617 non-null   object \n",
      " 36  postalcode_destination_hospital   69027 non-null    object \n",
      " 37  cityname_destination_hospital     531660 non-null   object \n",
      " 38  streetname_destination_hospital   531290 non-null   object \n",
      " 39  housenumber_destination_hospital  53933 non-null    object \n",
      " 40  calculated_traveltime_destinatio  453975 non-null   float64\n",
      " 41  calculated_distance_destination   453975 non-null   float64\n",
      " 42  number_of_transported_persons     458894 non-null   float64\n",
      " 43  abandon_reason                    109196 non-null   object \n",
      " 44  eventtype                         1043550 non-null  object \n",
      " 45  eventlevel                        1027749 non-null  object \n",
      "dtypes: float64(15), int64(1), object(30)\n",
      "memory usage: 366.9+ MB\n"
     ]
    }
   ],
   "source": [
    "interventions.info()"
   ],
   "metadata": {
    "collapsed": false,
    "ExecuteTime": {
     "end_time": "2024-02-18T16:58:40.310917Z",
     "start_time": "2024-02-18T16:58:39.459207Z"
    }
   },
   "id": "a147a5728d2c74a9"
  },
  {
   "cell_type": "code",
   "execution_count": 80,
   "outputs": [],
   "source": [
    "# Define the range of latitudes and longitudes\n",
    "max_lat = 52\n",
    "max_lon = 7\n",
    "\n",
    "# Adjust latitude values\n",
    "for i in range(len(interventions)):\n",
    "    lat = interventions.loc[i, 'latitude_intervention']\n",
    "    if lat > max_lat:\n",
    "        while lat > max_lat:\n",
    "            lat /= 10\n",
    "    interventions.loc[i, 'latitude_intervention'] = lat\n",
    "\n",
    "# Adjust longitude values\n",
    "for i in range(len(interventions)):\n",
    "    lon = interventions.loc[i, 'longitude_intervention']\n",
    "    if lon > max_lon:\n",
    "        while lon > max_lon:\n",
    "            lon /= 10\n",
    "    interventions.loc[i, 'longitude_intervention'] = lon"
   ],
   "metadata": {
    "collapsed": false,
    "ExecuteTime": {
     "end_time": "2024-02-18T16:59:53.795008Z",
     "start_time": "2024-02-18T16:58:40.312970Z"
    }
   },
   "id": "fa7ecbf461286f41"
  },
  {
   "cell_type": "code",
   "execution_count": 81,
   "outputs": [],
   "source": [
    "interventions['latitude_intervention'] = interventions['latitude_intervention'].replace(0, np.nan)\n",
    "interventions['longitude_intervention'] = interventions['longitude_intervention'].replace(0, np.nan)\n"
   ],
   "metadata": {
    "collapsed": false,
    "ExecuteTime": {
     "end_time": "2024-02-18T16:59:53.967491Z",
     "start_time": "2024-02-18T16:59:53.793699Z"
    }
   },
   "id": "94909508ffce08ef"
  },
  {
   "cell_type": "code",
   "execution_count": 82,
   "outputs": [
    {
     "name": "stdout",
     "output_type": "stream",
     "text": [
      "<class 'pandas.core.frame.DataFrame'>\n",
      "RangeIndex: 1045549 entries, 0 to 1045548\n",
      "Data columns (total 46 columns):\n",
      " #   Column                            Non-Null Count    Dtype  \n",
      "---  ------                            --------------    -----  \n",
      " 0   mission_id                        1045549 non-null  int64  \n",
      " 1   service_name                      948462 non-null   object \n",
      " 2   latitude_permanence               876274 non-null   float64\n",
      " 3   longitude_permanence              956056 non-null   float64\n",
      " 4   permanence_short_name             1041014 non-null  object \n",
      " 5   permanence_long_name              948631 non-null   object \n",
      " 6   vector_type                       1026230 non-null  object \n",
      " 7   cityname_intervention             1045342 non-null  object \n",
      " 8   latitude_intervention             954810 non-null   float64\n",
      " 9   longitude_intervention            1044945 non-null  float64\n",
      " 10  province_invervention             289303 non-null   object \n",
      " 11  t0                                1041831 non-null  object \n",
      " 12  t1                                1026201 non-null  object \n",
      " 13  t1confirmed                       587886 non-null   object \n",
      " 14  t2                                858968 non-null   object \n",
      " 15  t3                                819158 non-null   object \n",
      " 16  t4                                707685 non-null   object \n",
      " 17  t5                                642588 non-null   object \n",
      " 18  t6                                749795 non-null   object \n",
      " 19  t7                                615390 non-null   object \n",
      " 20  intervention_time_(t1reported)    893366 non-null   float64\n",
      " 21  intervention_time_(t1confirmed)   637722 non-null   float64\n",
      " 22  departure_time_(t1reported)       935015 non-null   float64\n",
      " 23  departure_time_(t1confirmed)      661780 non-null   float64\n",
      " 24  file_name                         1045549 non-null  object \n",
      " 25  postalcode_permanence             714927 non-null   float64\n",
      " 26  cityname_permanence               749244 non-null   object \n",
      " 27  streetname_permanence             751638 non-null   object \n",
      " 28  housenumber_permanence            61667 non-null    object \n",
      " 29  postalcode_intervention           115928 non-null   object \n",
      " 30  province_intervention             601881 non-null   object \n",
      " 31  t9                                8965 non-null     object \n",
      " 32  waiting_time                      629835 non-null   float64\n",
      " 33  intervention_duration             542655 non-null   float64\n",
      " 34  unavailable_time                  10915 non-null    float64\n",
      " 35  name_destination_hospital         531617 non-null   object \n",
      " 36  postalcode_destination_hospital   69027 non-null    object \n",
      " 37  cityname_destination_hospital     531660 non-null   object \n",
      " 38  streetname_destination_hospital   531290 non-null   object \n",
      " 39  housenumber_destination_hospital  53933 non-null    object \n",
      " 40  calculated_traveltime_destinatio  453975 non-null   float64\n",
      " 41  calculated_distance_destination   453975 non-null   float64\n",
      " 42  number_of_transported_persons     458894 non-null   float64\n",
      " 43  abandon_reason                    109196 non-null   object \n",
      " 44  eventtype                         1043550 non-null  object \n",
      " 45  eventlevel                        1027749 non-null  object \n",
      "dtypes: float64(15), int64(1), object(30)\n",
      "memory usage: 366.9+ MB\n"
     ]
    }
   ],
   "source": [
    "interventions.info()"
   ],
   "metadata": {
    "collapsed": false,
    "ExecuteTime": {
     "end_time": "2024-02-18T16:59:54.943098Z",
     "start_time": "2024-02-18T16:59:53.986565Z"
    }
   },
   "id": "ecbfc279a9a26c9a"
  },
  {
   "cell_type": "code",
   "execution_count": 83,
   "outputs": [],
   "source": [
    "# Define the boundaries of Belgium in terms of latitude and longitude\n",
    "belgium_boundaries = {\n",
    "    'min_lat': 49.5,\n",
    "    'max_lat': 51.5,\n",
    "    'min_lon': 2.5,\n",
    "    'max_lon': 6.5\n",
    "}\n",
    "\n",
    "# Filter out coordinates outside Belgium\n",
    "interventions = interventions[(interventions['latitude_intervention'] >= belgium_boundaries['min_lat']) & \n",
    "        (interventions['latitude_intervention'] <= belgium_boundaries['max_lat']) &\n",
    "        (interventions['longitude_intervention'] >= belgium_boundaries['min_lon']) &\n",
    "        (interventions['longitude_intervention'] <= belgium_boundaries['max_lon'])]"
   ],
   "metadata": {
    "collapsed": false,
    "ExecuteTime": {
     "end_time": "2024-02-18T16:59:56.004027Z",
     "start_time": "2024-02-18T16:59:54.947533Z"
    }
   },
   "id": "8defa787d42bf63b"
  },
  {
   "cell_type": "code",
   "execution_count": 84,
   "outputs": [
    {
     "name": "stdout",
     "output_type": "stream",
     "text": [
      "<class 'pandas.core.frame.DataFrame'>\n",
      "Index: 954538 entries, 0 to 1045548\n",
      "Data columns (total 46 columns):\n",
      " #   Column                            Non-Null Count   Dtype  \n",
      "---  ------                            --------------   -----  \n",
      " 0   mission_id                        954538 non-null  int64  \n",
      " 1   service_name                      857467 non-null  object \n",
      " 2   latitude_permanence               869406 non-null  float64\n",
      " 3   longitude_permanence              874523 non-null  float64\n",
      " 4   permanence_short_name             950022 non-null  object \n",
      " 5   permanence_long_name              857644 non-null  object \n",
      " 6   vector_type                       935230 non-null  object \n",
      " 7   cityname_intervention             954337 non-null  object \n",
      " 8   latitude_intervention             954538 non-null  float64\n",
      " 9   longitude_intervention            954538 non-null  float64\n",
      " 10  province_invervention             289293 non-null  object \n",
      " 11  t0                                950825 non-null  object \n",
      " 12  t1                                935201 non-null  object \n",
      " 13  t1confirmed                       587201 non-null  object \n",
      " 14  t2                                858271 non-null  object \n",
      " 15  t3                                818490 non-null  object \n",
      " 16  t4                                707165 non-null  object \n",
      " 17  t5                                642089 non-null  object \n",
      " 18  t6                                749222 non-null  object \n",
      " 19  t7                                614765 non-null  object \n",
      " 20  intervention_time_(t1reported)    810718 non-null  float64\n",
      " 21  intervention_time_(t1confirmed)   557057 non-null  float64\n",
      " 22  departure_time_(t1reported)       848990 non-null  float64\n",
      " 23  departure_time_(t1confirmed)      577893 non-null  float64\n",
      " 24  file_name                         954538 non-null  object \n",
      " 25  postalcode_permanence             624205 non-null  float64\n",
      " 26  cityname_permanence               658522 non-null  object \n",
      " 27  streetname_permanence             660651 non-null  object \n",
      " 28  housenumber_permanence            56478 non-null   object \n",
      " 29  postalcode_intervention           115657 non-null  object \n",
      " 30  province_intervention             510893 non-null  object \n",
      " 31  t9                                8963 non-null    object \n",
      " 32  waiting_time                      547197 non-null  float64\n",
      " 33  intervention_duration             470748 non-null  float64\n",
      " 34  unavailable_time                  9089 non-null    float64\n",
      " 35  name_destination_hospital         463817 non-null  object \n",
      " 36  postalcode_destination_hospital   69024 non-null   object \n",
      " 37  cityname_destination_hospital     463860 non-null  object \n",
      " 38  streetname_destination_hospital   463490 non-null  object \n",
      " 39  housenumber_destination_hospital  53886 non-null   object \n",
      " 40  calculated_traveltime_destinatio  386484 non-null  float64\n",
      " 41  calculated_distance_destination   386484 non-null  float64\n",
      " 42  number_of_transported_persons     400316 non-null  float64\n",
      " 43  abandon_reason                    97561 non-null   object \n",
      " 44  eventtype                         952555 non-null  object \n",
      " 45  eventlevel                        938600 non-null  object \n",
      "dtypes: float64(15), int64(1), object(30)\n",
      "memory usage: 342.3+ MB\n"
     ]
    }
   ],
   "source": [
    "interventions.info()"
   ],
   "metadata": {
    "collapsed": false,
    "ExecuteTime": {
     "end_time": "2024-02-18T16:59:56.646542Z",
     "start_time": "2024-02-18T16:59:56.002223Z"
    }
   },
   "id": "8e17d2f8ab7ccdb4"
  },
  {
   "cell_type": "markdown",
   "source": [
    "interventions - date type"
   ],
   "metadata": {
    "collapsed": false
   },
   "id": "2b9c5c07395e58a0"
  },
  {
   "cell_type": "code",
   "execution_count": 85,
   "outputs": [],
   "source": [
    "df = interventions"
   ],
   "metadata": {
    "collapsed": false,
    "ExecuteTime": {
     "end_time": "2024-02-18T16:59:56.651344Z",
     "start_time": "2024-02-18T16:59:56.647341Z"
    }
   },
   "id": "2338c270c1118b01"
  },
  {
   "cell_type": "code",
   "execution_count": 86,
   "outputs": [],
   "source": [
    "# datatype conversion postalcode_permanence\n",
    "df['postalcode_permanence'] = df['postalcode_permanence'].astype(str)"
   ],
   "metadata": {
    "collapsed": false,
    "ExecuteTime": {
     "end_time": "2024-02-18T16:59:56.878403Z",
     "start_time": "2024-02-18T16:59:56.652914Z"
    }
   },
   "id": "1b6adbc70604d118"
  },
  {
   "cell_type": "code",
   "execution_count": 87,
   "outputs": [],
   "source": [
    "# split dataframe into 6 to perform datetime conversion\n",
    "df1 = df[df['file_name'] == 'cad9'].copy()\n",
    "df2 = df[df['file_name'] == 'interventions_bxl'].copy()\n",
    "df3 = df[df['file_name'] == 'interventions_bxl2'].copy()\n",
    "df4 = df[df['file_name'] == 'interventions2'].copy()\n",
    "df5 = df[df['file_name'] == 'interventions3'].copy()\n",
    "df6 = df[df['file_name'] == 'inverventions1'].copy() # note there is a typo"
   ],
   "metadata": {
    "collapsed": false,
    "ExecuteTime": {
     "end_time": "2024-02-18T16:59:59.658617Z",
     "start_time": "2024-02-18T16:59:56.907796Z"
    }
   },
   "id": "72cb435f16984751"
  },
  {
   "cell_type": "code",
   "execution_count": 88,
   "outputs": [],
   "source": [
    "# datetime conversion\n",
    "\n",
    "# split the big frame into smaller ones\n",
    "col = 't0'\n",
    "df1[col] = pd.to_datetime(df1[col])\n",
    "df2[col] = pd.to_datetime(df2[col], utc=True)\n",
    "df3[col] = pd.to_datetime(df3[col], format='%d%b%y:%H:%M:%S')\n",
    "df4[col] = pd.to_datetime(df4[col], format='%d%b%y:%H:%M:%S')\n",
    "df5[col] = pd.to_datetime(df5[col], format='%d%b%y:%H:%M:%S')\n",
    "df6[col] = pd.to_datetime(df6[col], format='%d%b%y:%H:%M:%S')"
   ],
   "metadata": {
    "collapsed": false,
    "ExecuteTime": {
     "end_time": "2024-02-18T17:00:00.953187Z",
     "start_time": "2024-02-18T16:59:59.746419Z"
    }
   },
   "id": "a1ed04538232b8c2"
  },
  {
   "cell_type": "code",
   "execution_count": 89,
   "outputs": [],
   "source": [
    "# convert to datetime\n",
    "col = 't3'\n",
    "df1[col] = pd.to_datetime(df1[col])\n",
    "df2[col] = pd.to_datetime(df2[col], utc=True)\n",
    "df3[col] = pd.to_datetime(df3[col], format='%d%b%y:%H:%M:%S')\n",
    "df4[col] = pd.to_datetime(df4[col])\n",
    "df5[col] = pd.to_datetime(df5[col])\n",
    "df6[col] = pd.to_datetime(df6[col])"
   ],
   "metadata": {
    "collapsed": false,
    "ExecuteTime": {
     "end_time": "2024-02-18T17:00:01.575108Z",
     "start_time": "2024-02-18T17:00:00.951825Z"
    }
   },
   "id": "5c7ecef6f1ddca59"
  },
  {
   "cell_type": "code",
   "execution_count": 90,
   "outputs": [],
   "source": [
    "# convert utc time to local time\n",
    "col = 't0'\n",
    "df2[col] = df2[col].dt.tz_convert('Europe/Brussels')\n",
    "# drop the time zone information after conversion\n",
    "df2[col] = df2[col].dt.tz_localize(None)"
   ],
   "metadata": {
    "collapsed": false,
    "ExecuteTime": {
     "end_time": "2024-02-18T17:00:01.583439Z",
     "start_time": "2024-02-18T17:00:01.575955Z"
    }
   },
   "id": "4e4e68d15111215a"
  },
  {
   "cell_type": "code",
   "execution_count": 91,
   "outputs": [],
   "source": [
    "# convert utc time to local time\n",
    "col = 't3'\n",
    "df2[col] = df2[col].dt.tz_convert('Europe/Brussels')\n",
    "# drop the time zone information after conversion\n",
    "df2[col] = df2[col].dt.tz_localize(None)"
   ],
   "metadata": {
    "collapsed": false,
    "ExecuteTime": {
     "end_time": "2024-02-18T17:00:01.589522Z",
     "start_time": "2024-02-18T17:00:01.584316Z"
    }
   },
   "id": "8e4e925f33d9d8c3"
  },
  {
   "cell_type": "code",
   "execution_count": 92,
   "outputs": [],
   "source": [
    "# merge back to the full frame df\n",
    "dfs = [df1,df2,df3,df4,df5,df6]\n",
    "df = pd.concat(dfs)"
   ],
   "metadata": {
    "collapsed": false,
    "ExecuteTime": {
     "end_time": "2024-02-18T17:00:02.423120Z",
     "start_time": "2024-02-18T17:00:01.590726Z"
    }
   },
   "id": "c786ba7fcf121740"
  },
  {
   "cell_type": "code",
   "execution_count": 93,
   "outputs": [
    {
     "data": {
      "text/plain": "array([[<Axes: title={'center': 'duration_t3-t0'}>]], dtype=object)"
     },
     "execution_count": 93,
     "metadata": {},
     "output_type": "execute_result"
    },
    {
     "data": {
      "text/plain": "<Figure size 640x480 with 1 Axes>",
      "image/png": "[encoded data removed]"
     },
     "metadata": {},
     "output_type": "display_data"
    }
   ],
   "source": [
    "# calculate duration in minutes from t3 to t0\n",
    "df['duration_t3-t0'] = (df['t3'] - df['t0']).dt.total_seconds() / 60\n",
    "\n",
    "# check duration\n",
    "mask = df['duration_t3-t0']>0\n",
    "df_mask = df.loc[mask,['file_name','t3','t0','duration_t3-t0']]\n",
    "\n",
    "df_mask[['duration_t3-t0']].hist(log=True)"
   ],
   "metadata": {
    "collapsed": false,
    "ExecuteTime": {
     "end_time": "2024-02-18T17:00:03.488831Z",
     "start_time": "2024-02-18T17:00:02.420436Z"
    }
   },
   "id": "d161a0c35016a4d7"
  },
  {
   "cell_type": "code",
   "execution_count": 94,
   "outputs": [],
   "source": [
    "# calculate the date of t0\n",
    "df['t0_date'] = df['t0'].dt.date\n",
    "df['t0_date'] = pd.to_datetime(df['t0_date'])"
   ],
   "metadata": {
    "collapsed": false,
    "ExecuteTime": {
     "end_time": "2024-02-18T17:00:03.656430Z",
     "start_time": "2024-02-18T17:00:03.495377Z"
    }
   },
   "id": "e3513bb81b706ff6"
  },
  {
   "cell_type": "code",
   "execution_count": 95,
   "outputs": [],
   "source": [
    "# check for duplicates\n",
    "duplicated_missions = df[df.duplicated(subset= ['mission_id'])].mission_id.to_list()\n",
    "df_duplicates = df[df['mission_id'].isin(duplicated_missions)]\n",
    "# df_duplicates.to_csv('inv123_duplicates.csv',index=False)\n",
    "\n",
    "\n",
    "# drop duplicated mission id only for cardiotic arrest\n",
    "# TODO"
   ],
   "metadata": {
    "collapsed": false,
    "ExecuteTime": {
     "end_time": "2024-02-18T17:00:04.569089Z",
     "start_time": "2024-02-18T17:00:03.658424Z"
    }
   },
   "id": "cd9aef3f6702991"
  },
  {
   "cell_type": "code",
   "execution_count": 96,
   "outputs": [],
   "source": [
    "# inspect abandon reasons\n",
    "col = 'abandon_reason'\n",
    "frequency_count = df[col].value_counts()\n",
    "\n",
    "#df_refuse = df[df['abandon_reason'] == 'Weigering van vervoer']\n",
    "#col = ['eventtype']\n",
    "#frequency_count = df_refuse[col].value_counts()\n",
    "#frequency_count[:15]\n"
   ],
   "metadata": {
    "collapsed": false,
    "ExecuteTime": {
     "end_time": "2024-02-18T17:00:04.577953Z",
     "start_time": "2024-02-18T17:00:04.576192Z"
    }
   },
   "id": "3cb378866b5684ed"
  },
  {
   "cell_type": "code",
   "execution_count": 97,
   "outputs": [],
   "source": [
    "# check duration and waiting_time\n",
    "\n",
    "# round the duration to compare with waiting_time\n",
    "df['duration_t3-t0_round'] = df['duration_t3-t0'].round()\n",
    "\n",
    "cols = ['t3','t0','duration_t3-t0','duration_t3-t0_round','waiting_time',]\n",
    "\n",
    "#df_waiting_check = df.loc[abs(df['duration_t3-t0_round']-df['waiting_time'])>1,cols]\n",
    "#df_waiting_check.to_csv('df_waiting_check.csv')\n",
    "\n",
    "# =================CORRECTION STARTS ========================\n",
    "# replace negative durations with N/A\n",
    "df.loc[df['duration_t3-t0'] <=0, 'duration_t3-t0'] = np.nan\n",
    "\n",
    "# replace waiting_time > 24hours with N/A\n",
    "df.loc[df['waiting_time'] > 24*60, 'waiting_time'] = np.nan\n",
    "# replace waiting_time = 0 with N/A\n",
    "df.loc[df['waiting_time'] <= 0, 'waiting_time'] = np.nan\n",
    "\n",
    "# round the duration to compare with waiting_time\n",
    "df['duration_t3-t0_round'] = df['duration_t3-t0'].round()\n",
    "\n",
    "# for cases when duration - waiting_timie = 60, use waiting_time instead of duration\n",
    "rows_to_update = df[(df['duration_t3-t0_round'] - df['waiting_time'] >= 59) & (abs(df['duration_t3-t0_round']-df['waiting_time'])<=61)].index\n",
    "df.loc[rows_to_update, 'duration_t3-t0'] -= 60\n",
    "\n",
    "# round the duration to compare with waiting_time\n",
    "df['duration_t3-t0_round'] = df['duration_t3-t0'].round()\n",
    "\n",
    "# check if na values in duration can be filled by waiting_time\n",
    "#df.loc[df['duration_t3-t0'].isnull() & df['waiting_time'].notnull()].to_csv('df_waiting_time_check_2.csv')\n",
    "\n",
    "# remove the helper column\n",
    "df.drop('duration_t3-t0_round',axis=1,inplace=True)\n",
    "\n",
    "# =================CORRECTION ENDS ========================"
   ],
   "metadata": {
    "collapsed": false,
    "ExecuteTime": {
     "end_time": "2024-02-18T17:00:05.242930Z",
     "start_time": "2024-02-18T17:00:04.580693Z"
    }
   },
   "id": "c1729e57287d7e4a"
  },
  {
   "cell_type": "code",
   "execution_count": 98,
   "outputs": [],
   "source": [
    "interventions = df"
   ],
   "metadata": {
    "collapsed": false,
    "ExecuteTime": {
     "end_time": "2024-02-18T17:00:05.483248Z",
     "start_time": "2024-02-18T17:00:05.242443Z"
    }
   },
   "id": "940d43ea380eadb4"
  },
  {
   "cell_type": "markdown",
   "source": [
    "mission_id delete duplicate"
   ],
   "metadata": {
    "collapsed": false
   },
   "id": "31c953580d60477b"
  },
  {
   "cell_type": "code",
   "execution_count": 99,
   "outputs": [
    {
     "name": "stdout",
     "output_type": "stream",
     "text": [
      "<class 'pandas.core.frame.DataFrame'>\n",
      "Index: 954538 entries, 0 to 490027\n",
      "Data columns (total 48 columns):\n",
      " #   Column                            Non-Null Count   Dtype         \n",
      "---  ------                            --------------   -----         \n",
      " 0   mission_id                        954538 non-null  int64         \n",
      " 1   service_name                      857467 non-null  object        \n",
      " 2   latitude_permanence               869406 non-null  float64       \n",
      " 3   longitude_permanence              874523 non-null  float64       \n",
      " 4   permanence_short_name             950022 non-null  object        \n",
      " 5   permanence_long_name              857644 non-null  object        \n",
      " 6   vector_type                       935230 non-null  object        \n",
      " 7   cityname_intervention             954337 non-null  object        \n",
      " 8   latitude_intervention             954538 non-null  float64       \n",
      " 9   longitude_intervention            954538 non-null  float64       \n",
      " 10  province_invervention             289293 non-null  object        \n",
      " 11  t0                                950825 non-null  datetime64[ns]\n",
      " 12  t1                                935201 non-null  object        \n",
      " 13  t1confirmed                       587201 non-null  object        \n",
      " 14  t2                                858271 non-null  object        \n",
      " 15  t3                                818490 non-null  datetime64[ns]\n",
      " 16  t4                                707165 non-null  object        \n",
      " 17  t5                                642089 non-null  object        \n",
      " 18  t6                                749222 non-null  object        \n",
      " 19  t7                                614765 non-null  object        \n",
      " 20  intervention_time_(t1reported)    810718 non-null  float64       \n",
      " 21  intervention_time_(t1confirmed)   557057 non-null  float64       \n",
      " 22  departure_time_(t1reported)       848990 non-null  float64       \n",
      " 23  departure_time_(t1confirmed)      577893 non-null  float64       \n",
      " 24  file_name                         954538 non-null  object        \n",
      " 25  postalcode_permanence             954538 non-null  object        \n",
      " 26  cityname_permanence               658522 non-null  object        \n",
      " 27  streetname_permanence             660651 non-null  object        \n",
      " 28  housenumber_permanence            56478 non-null   object        \n",
      " 29  postalcode_intervention           115657 non-null  object        \n",
      " 30  province_intervention             510893 non-null  object        \n",
      " 31  t9                                8963 non-null    object        \n",
      " 32  waiting_time                      546643 non-null  float64       \n",
      " 33  intervention_duration             470748 non-null  float64       \n",
      " 34  unavailable_time                  9089 non-null    float64       \n",
      " 35  name_destination_hospital         463817 non-null  object        \n",
      " 36  postalcode_destination_hospital   69024 non-null   object        \n",
      " 37  cityname_destination_hospital     463860 non-null  object        \n",
      " 38  streetname_destination_hospital   463490 non-null  object        \n",
      " 39  housenumber_destination_hospital  53886 non-null   object        \n",
      " 40  calculated_traveltime_destinatio  386484 non-null  float64       \n",
      " 41  calculated_distance_destination   386484 non-null  float64       \n",
      " 42  number_of_transported_persons     400316 non-null  float64       \n",
      " 43  abandon_reason                    97561 non-null   object        \n",
      " 44  eventtype                         952555 non-null  object        \n",
      " 45  eventlevel                        938600 non-null  object        \n",
      " 46  duration_t3-t0                    814056 non-null  float64       \n",
      " 47  t0_date                           950825 non-null  datetime64[ns]\n",
      "dtypes: datetime64[ns](3), float64(15), int64(1), object(29)\n",
      "memory usage: 389.1+ MB\n"
     ]
    }
   ],
   "source": [
    "interventions.info()"
   ],
   "metadata": {
    "collapsed": false,
    "ExecuteTime": {
     "end_time": "2024-02-18T17:00:06.163825Z",
     "start_time": "2024-02-18T17:00:05.484872Z"
    }
   },
   "id": "aa446598ebdfa97b"
  },
  {
   "cell_type": "code",
   "execution_count": 100,
   "outputs": [
    {
     "name": "stdout",
     "output_type": "stream",
     "text": [
      "<class 'pandas.core.frame.DataFrame'>\n",
      "Index: 954538 entries, 0 to 490027\n",
      "Data columns (total 48 columns):\n",
      " #   Column                            Non-Null Count   Dtype         \n",
      "---  ------                            --------------   -----         \n",
      " 0   mission_id                        954538 non-null  int64         \n",
      " 1   service_name                      857467 non-null  object        \n",
      " 2   latitude_permanence               869406 non-null  float64       \n",
      " 3   longitude_permanence              874523 non-null  float64       \n",
      " 4   permanence_short_name             950022 non-null  object        \n",
      " 5   permanence_long_name              857644 non-null  object        \n",
      " 6   vector_type                       935230 non-null  object        \n",
      " 7   cityname_intervention             954337 non-null  object        \n",
      " 8   latitude_intervention             954538 non-null  float64       \n",
      " 9   longitude_intervention            954538 non-null  float64       \n",
      " 10  province_invervention             289293 non-null  object        \n",
      " 11  t0                                950825 non-null  datetime64[ns]\n",
      " 12  t1                                935201 non-null  object        \n",
      " 13  t1confirmed                       587201 non-null  object        \n",
      " 14  t2                                858271 non-null  object        \n",
      " 15  t3                                818490 non-null  datetime64[ns]\n",
      " 16  t4                                707165 non-null  object        \n",
      " 17  t5                                642089 non-null  object        \n",
      " 18  t6                                749222 non-null  object        \n",
      " 19  t7                                614765 non-null  object        \n",
      " 20  intervention_time_(t1reported)    810718 non-null  float64       \n",
      " 21  intervention_time_(t1confirmed)   557057 non-null  float64       \n",
      " 22  departure_time_(t1reported)       848990 non-null  float64       \n",
      " 23  departure_time_(t1confirmed)      577893 non-null  float64       \n",
      " 24  file_name                         954538 non-null  object        \n",
      " 25  postalcode_permanence             954538 non-null  object        \n",
      " 26  cityname_permanence               658522 non-null  object        \n",
      " 27  streetname_permanence             660651 non-null  object        \n",
      " 28  housenumber_permanence            56478 non-null   object        \n",
      " 29  postalcode_intervention           115657 non-null  object        \n",
      " 30  province_intervention             510893 non-null  object        \n",
      " 31  t9                                8963 non-null    object        \n",
      " 32  waiting_time                      546643 non-null  float64       \n",
      " 33  intervention_duration             470748 non-null  float64       \n",
      " 34  unavailable_time                  9089 non-null    float64       \n",
      " 35  name_destination_hospital         463817 non-null  object        \n",
      " 36  postalcode_destination_hospital   69024 non-null   object        \n",
      " 37  cityname_destination_hospital     463860 non-null  object        \n",
      " 38  streetname_destination_hospital   463490 non-null  object        \n",
      " 39  housenumber_destination_hospital  53886 non-null   object        \n",
      " 40  calculated_traveltime_destinatio  386484 non-null  float64       \n",
      " 41  calculated_distance_destination   386484 non-null  float64       \n",
      " 42  number_of_transported_persons     400316 non-null  float64       \n",
      " 43  abandon_reason                    97561 non-null   object        \n",
      " 44  eventtype                         952555 non-null  object        \n",
      " 45  eventlevel                        938600 non-null  object        \n",
      " 46  duration_t3-t0                    814056 non-null  float64       \n",
      " 47  t0_date                           950825 non-null  datetime64[ns]\n",
      "dtypes: datetime64[ns](3), float64(15), int64(1), object(29)\n",
      "memory usage: 389.1+ MB\n"
     ]
    }
   ],
   "source": [
    "interventions.info()"
   ],
   "metadata": {
    "collapsed": false,
    "ExecuteTime": {
     "end_time": "2024-02-18T17:00:07.443641Z",
     "start_time": "2024-02-18T17:00:06.163336Z"
    }
   },
   "id": "9d19c10b42061d7"
  },
  {
   "cell_type": "markdown",
   "source": [
    "filter eventtype"
   ],
   "metadata": {
    "collapsed": false
   },
   "id": "2289073df67902bd"
  },
  {
   "cell_type": "code",
   "execution_count": 101,
   "outputs": [
    {
     "name": "stdout",
     "output_type": "stream",
     "text": [
      "<class 'pandas.core.frame.DataFrame'>\n",
      "Index: 954538 entries, 0 to 490027\n",
      "Data columns (total 48 columns):\n",
      " #   Column                            Non-Null Count   Dtype         \n",
      "---  ------                            --------------   -----         \n",
      " 0   mission_id                        954538 non-null  int64         \n",
      " 1   service_name                      857467 non-null  object        \n",
      " 2   latitude_permanence               869406 non-null  float64       \n",
      " 3   longitude_permanence              874523 non-null  float64       \n",
      " 4   permanence_short_name             950022 non-null  object        \n",
      " 5   permanence_long_name              857644 non-null  object        \n",
      " 6   vector_type                       935230 non-null  object        \n",
      " 7   cityname_intervention             954337 non-null  object        \n",
      " 8   latitude_intervention             954538 non-null  float64       \n",
      " 9   longitude_intervention            954538 non-null  float64       \n",
      " 10  province_invervention             289293 non-null  object        \n",
      " 11  t0                                950825 non-null  datetime64[ns]\n",
      " 12  t1                                935201 non-null  object        \n",
      " 13  t1confirmed                       587201 non-null  object        \n",
      " 14  t2                                858271 non-null  object        \n",
      " 15  t3                                818490 non-null  datetime64[ns]\n",
      " 16  t4                                707165 non-null  object        \n",
      " 17  t5                                642089 non-null  object        \n",
      " 18  t6                                749222 non-null  object        \n",
      " 19  t7                                614765 non-null  object        \n",
      " 20  intervention_time_(t1reported)    810718 non-null  float64       \n",
      " 21  intervention_time_(t1confirmed)   557057 non-null  float64       \n",
      " 22  departure_time_(t1reported)       848990 non-null  float64       \n",
      " 23  departure_time_(t1confirmed)      577893 non-null  float64       \n",
      " 24  file_name                         954538 non-null  object        \n",
      " 25  postalcode_permanence             954538 non-null  object        \n",
      " 26  cityname_permanence               658522 non-null  object        \n",
      " 27  streetname_permanence             660651 non-null  object        \n",
      " 28  housenumber_permanence            56478 non-null   object        \n",
      " 29  postalcode_intervention           115657 non-null  object        \n",
      " 30  province_intervention             510893 non-null  object        \n",
      " 31  t9                                8963 non-null    object        \n",
      " 32  waiting_time                      546643 non-null  float64       \n",
      " 33  intervention_duration             470748 non-null  float64       \n",
      " 34  unavailable_time                  9089 non-null    float64       \n",
      " 35  name_destination_hospital         463817 non-null  object        \n",
      " 36  postalcode_destination_hospital   69024 non-null   object        \n",
      " 37  cityname_destination_hospital     463860 non-null  object        \n",
      " 38  streetname_destination_hospital   463490 non-null  object        \n",
      " 39  housenumber_destination_hospital  53886 non-null   object        \n",
      " 40  calculated_traveltime_destinatio  386484 non-null  float64       \n",
      " 41  calculated_distance_destination   386484 non-null  float64       \n",
      " 42  number_of_transported_persons     400316 non-null  float64       \n",
      " 43  abandon_reason                    97561 non-null   object        \n",
      " 44  eventtype                         952555 non-null  object        \n",
      " 45  eventlevel                        938600 non-null  object        \n",
      " 46  duration_t3-t0                    814056 non-null  float64       \n",
      " 47  t0_date                           950825 non-null  datetime64[ns]\n",
      "dtypes: datetime64[ns](3), float64(15), int64(1), object(29)\n",
      "memory usage: 389.1+ MB\n"
     ]
    }
   ],
   "source": [
    "interventions.info()"
   ],
   "metadata": {
    "collapsed": false,
    "ExecuteTime": {
     "end_time": "2024-02-18T17:00:08.806149Z",
     "start_time": "2024-02-18T17:00:07.461998Z"
    }
   },
   "id": "880756f93d2fd5b6"
  },
  {
   "cell_type": "code",
   "execution_count": 102,
   "outputs": [
    {
     "data": {
      "text/plain": "eventtype\nP033 Trauma                                        94616\nP010 Respiratory problems                          56718\nP026 Unclear problem                               54672\nP033 TRAUMA                                        53834\nP019 Unconscious syncope                           38192\n                                                   ...  \nSI (4.4.0) underground pipeline rupture                1\nTI (3.0.0) general                                     1\nSI B(4.2.3) Aircraft in distress Full EM type 3        1\nY_SI LUHA CRASH OPCO+DGH                               1\nLO (5.1.1) assistance ambulance manpower               1\nName: count, Length: 280, dtype: int64"
     },
     "execution_count": 102,
     "metadata": {},
     "output_type": "execute_result"
    }
   ],
   "source": [
    "# Count of each unique value in 'Column1'\n",
    "value_counts_eventtype = interventions['eventtype'].value_counts()\n",
    "\n",
    "value_counts_eventtype"
   ],
   "metadata": {
    "collapsed": false,
    "ExecuteTime": {
     "end_time": "2024-02-18T17:00:08.864221Z",
     "start_time": "2024-02-18T17:00:08.862155Z"
    }
   },
   "id": "f0bd56d69efc4c1e"
  },
  {
   "cell_type": "code",
   "execution_count": 103,
   "outputs": [],
   "source": [
    "# Split column values into two parts\n",
    "interventions[['eventtype_code', 'eventtype_exp']] = interventions['eventtype'].str.split(n=1, expand=True)\n",
    "\n",
    "# Drop the original column\n",
    "interventions.drop(columns=['eventtype'], inplace=True)"
   ],
   "metadata": {
    "collapsed": false,
    "ExecuteTime": {
     "end_time": "2024-02-18T17:00:11.161446Z",
     "start_time": "2024-02-18T17:00:08.888958Z"
    }
   },
   "id": "92468cf2d7df5d90"
  },
  {
   "cell_type": "code",
   "execution_count": 104,
   "outputs": [],
   "source": [
    "interventions.to_csv('/Users/ouharuhua/Desktop/Datathon_2024/Processed/interventions.csv', index=False)\n"
   ],
   "metadata": {
    "collapsed": false,
    "ExecuteTime": {
     "end_time": "2024-02-18T17:00:23.660397Z",
     "start_time": "2024-02-18T17:00:11.160985Z"
    }
   },
   "id": "dad283082e5c2442"
  },
  {
   "cell_type": "code",
   "execution_count": 105,
   "outputs": [
    {
     "data": {
      "text/plain": "eventtype_code\nP033        148450\nP010         83070\nP026         74658\nP019         62516\nP011         44702\n             ...  \nPERSONEN         1\nOOS              1\nMedisch          1\nZ_BR             1\nTest             1\nName: count, Length: 95, dtype: int64"
     },
     "execution_count": 105,
     "metadata": {},
     "output_type": "execute_result"
    }
   ],
   "source": [
    "# Count of each unique value in 'Column1'\n",
    "value_counts_eventtype = interventions['eventtype_code'].value_counts()\n",
    "\n",
    "value_counts_eventtype"
   ],
   "metadata": {
    "collapsed": false,
    "ExecuteTime": {
     "end_time": "2024-02-18T17:00:23.812258Z",
     "start_time": "2024-02-18T17:00:23.662604Z"
    }
   },
   "id": "787a0978b3c46cdf"
  },
  {
   "cell_type": "code",
   "execution_count": 106,
   "outputs": [
    {
     "data": {
      "text/plain": "abandon_reason\nWeigering van vervoer      25926\nVerzorgd ter plaatse       17150\nError                      14966\nZonder patient             10230\nGeannuleerd                10129\nOverleden                   6566\nVervoerd door politie       4665\nVervoerd door derden        3807\nWeigering vervoer           1692\nLoos alarm goed bedoeld      616\nKwaadwillig                  515\nGeannuleerde rit             472\nVervoer door derden          369\nTer plaatste behandeld       300\nDood Ter Plaatse             130\nKwaadwillige oproep           28\nName: count, dtype: int64"
     },
     "execution_count": 106,
     "metadata": {},
     "output_type": "execute_result"
    }
   ],
   "source": [
    "# Count of each unique value in 'Column1'\n",
    "value_counts_abandon = interventions['abandon_reason'].value_counts()\n",
    "\n",
    "value_counts_abandon"
   ],
   "metadata": {
    "collapsed": false,
    "ExecuteTime": {
     "end_time": "2024-02-18T17:00:23.824581Z",
     "start_time": "2024-02-18T17:00:23.822739Z"
    }
   },
   "id": "a680ac6042ebdced"
  },
  {
   "cell_type": "code",
   "execution_count": 107,
   "outputs": [
    {
     "data": {
      "text/plain": "cityname_intervention\nGENT                               26692\nAntwerpen (Antwerpen)              23174\nLi√®ge (Li√®ge)                    16493\nBruxelles (Bruxelles)              13270\nAnderlecht (Anderlecht)            12475\n                                   ...  \nTenneville (Laneuville-au-Bois)        1\nLibramont-Chevigny (Bras-Haut)         1\nVielsalm (Comt√©)                      1\nCouvin (Cul-des-Sarts)                 1\nSint-Lambrechts-Woluwe                 1\nName: count, Length: 3620, dtype: int64"
     },
     "execution_count": 107,
     "metadata": {},
     "output_type": "execute_result"
    }
   ],
   "source": [
    "# Count of each unique value in 'Column1'\n",
    "value_counts_city = interventions['cityname_intervention'].value_counts()\n",
    "\n",
    "value_counts_city"
   ],
   "metadata": {
    "collapsed": false,
    "ExecuteTime": {
     "end_time": "2024-02-18T17:00:23.855768Z",
     "start_time": "2024-02-18T17:00:23.852310Z"
    }
   },
   "id": "8cade89cfac01285"
  },
  {
   "cell_type": "code",
   "execution_count": 108,
   "outputs": [],
   "source": [
    "# Columns to keep\n",
    "columns_to_keep = ['mission_id','t0_date','duration_t3-t0', 'eventtype_code', 'eventlevel', 'province_intervention', 'postalcode_intervention','latitude_intervention','longitude_intervention','abandon_reason']\n",
    "\n",
    "interventions_geoloc = interventions[columns_to_keep]\n",
    "interventions_geoloc.to_csv('/Users/ouharuhua/Desktop/Datathon_2024/Processed/interventions_geoloc.csv', index=False)"
   ],
   "metadata": {
    "collapsed": false,
    "ExecuteTime": {
     "end_time": "2024-02-18T17:00:26.583824Z",
     "start_time": "2024-02-18T17:00:23.860666Z"
    }
   },
   "id": "695024c12e7020cf"
  },
  {
   "cell_type": "code",
   "execution_count": 109,
   "outputs": [
    {
     "name": "stdout",
     "output_type": "stream",
     "text": [
      "<class 'pandas.core.frame.DataFrame'>\n",
      "Index: 954538 entries, 0 to 490027\n",
      "Data columns (total 49 columns):\n",
      " #   Column                            Non-Null Count   Dtype         \n",
      "---  ------                            --------------   -----         \n",
      " 0   mission_id                        954538 non-null  int64         \n",
      " 1   service_name                      857467 non-null  object        \n",
      " 2   latitude_permanence               869406 non-null  float64       \n",
      " 3   longitude_permanence              874523 non-null  float64       \n",
      " 4   permanence_short_name             950022 non-null  object        \n",
      " 5   permanence_long_name              857644 non-null  object        \n",
      " 6   vector_type                       935230 non-null  object        \n",
      " 7   cityname_intervention             954337 non-null  object        \n",
      " 8   latitude_intervention             954538 non-null  float64       \n",
      " 9   longitude_intervention            954538 non-null  float64       \n",
      " 10  province_invervention             289293 non-null  object        \n",
      " 11  t0                                950825 non-null  datetime64[ns]\n",
      " 12  t1                                935201 non-null  object        \n",
      " 13  t1confirmed                       587201 non-null  object        \n",
      " 14  t2                                858271 non-null  object        \n",
      " 15  t3                                818490 non-null  datetime64[ns]\n",
      " 16  t4                                707165 non-null  object        \n",
      " 17  t5                                642089 non-null  object        \n",
      " 18  t6                                749222 non-null  object        \n",
      " 19  t7                                614765 non-null  object        \n",
      " 20  intervention_time_(t1reported)    810718 non-null  float64       \n",
      " 21  intervention_time_(t1confirmed)   557057 non-null  float64       \n",
      " 22  departure_time_(t1reported)       848990 non-null  float64       \n",
      " 23  departure_time_(t1confirmed)      577893 non-null  float64       \n",
      " 24  file_name                         954538 non-null  object        \n",
      " 25  postalcode_permanence             954538 non-null  object        \n",
      " 26  cityname_permanence               658522 non-null  object        \n",
      " 27  streetname_permanence             660651 non-null  object        \n",
      " 28  housenumber_permanence            56478 non-null   object        \n",
      " 29  postalcode_intervention           115657 non-null  object        \n",
      " 30  province_intervention             510893 non-null  object        \n",
      " 31  t9                                8963 non-null    object        \n",
      " 32  waiting_time                      546643 non-null  float64       \n",
      " 33  intervention_duration             470748 non-null  float64       \n",
      " 34  unavailable_time                  9089 non-null    float64       \n",
      " 35  name_destination_hospital         463817 non-null  object        \n",
      " 36  postalcode_destination_hospital   69024 non-null   object        \n",
      " 37  cityname_destination_hospital     463860 non-null  object        \n",
      " 38  streetname_destination_hospital   463490 non-null  object        \n",
      " 39  housenumber_destination_hospital  53886 non-null   object        \n",
      " 40  calculated_traveltime_destinatio  386484 non-null  float64       \n",
      " 41  calculated_distance_destination   386484 non-null  float64       \n",
      " 42  number_of_transported_persons     400316 non-null  float64       \n",
      " 43  abandon_reason                    97561 non-null   object        \n",
      " 44  eventlevel                        938600 non-null  object        \n",
      " 45  duration_t3-t0                    814056 non-null  float64       \n",
      " 46  t0_date                           950825 non-null  datetime64[ns]\n",
      " 47  eventtype_code                    952555 non-null  object        \n",
      " 48  eventtype_exp                     952441 non-null  object        \n",
      "dtypes: datetime64[ns](3), float64(15), int64(1), object(30)\n",
      "memory usage: 396.4+ MB\n"
     ]
    }
   ],
   "source": [
    "interventions.info()"
   ],
   "metadata": {
    "collapsed": false,
    "ExecuteTime": {
     "end_time": "2024-02-18T17:00:27.630027Z",
     "start_time": "2024-02-18T17:00:26.600308Z"
    }
   },
   "id": "23a259bade3b2e2d"
  },
  {
   "cell_type": "markdown",
   "source": [
    "cardiac arrest - case"
   ],
   "metadata": {
    "collapsed": false
   },
   "id": "53ae3416ac6f755c"
  },
  {
   "cell_type": "code",
   "execution_count": 110,
   "outputs": [],
   "source": [
    "# symptom: https://www.hopkinsmedicine.org/health/conditions-and-diseases/cardiac-arrest\n",
    "# Code to filter: P003 Cardiac arrest 心脏骤停\n",
    "\n",
    "# Filter rows where eventtype_code equals 'P003'\n",
    "interventions_ca = interventions[interventions['eventtype_code'] == 'P003']\n",
    "\n",
    "# Columns to keep\n",
    "columns_to_keep = ['mission_id','t0_date','duration_t3-t0', 'eventtype_code', 'eventlevel', 'province_intervention', 'postalcode_intervention','latitude_intervention','longitude_intervention','abandon_reason']\n",
    "\n",
    "# Select only the columns to keep\n",
    "interventions_ca = interventions_ca[columns_to_keep]\n",
    "\n",
    "interventions_ca.to_csv('/Users/ouharuhua/Desktop/Datathon_2024/Processed/interventions_ca.csv', index=False)\n"
   ],
   "metadata": {
    "collapsed": false,
    "ExecuteTime": {
     "end_time": "2024-02-18T17:00:27.831354Z",
     "start_time": "2024-02-18T17:00:27.629610Z"
    }
   },
   "id": "eb070a9dc5344ae3"
  },
  {
   "cell_type": "code",
   "execution_count": 111,
   "outputs": [
    {
     "data": {
      "text/plain": "abandon_reason\nOverleden                  2551\nGeannuleerd                  81\nError                        45\nDood Ter Plaatse             28\nWeigering van vervoer        25\nZonder patient               23\nVervoerd door derden         18\nVerzorgd ter plaatse         13\nVervoerd door politie        10\nGeannuleerde rit              3\nKwaadwillig                   3\nVervoer door derden           1\nLoos alarm goed bedoeld       1\nName: count, dtype: int64"
     },
     "execution_count": 111,
     "metadata": {},
     "output_type": "execute_result"
    }
   ],
   "source": [
    "# Count of each unique value in 'Column1'\n",
    "value_counts_abandon = interventions_ca['abandon_reason'].value_counts()\n",
    "\n",
    "value_counts_abandon"
   ],
   "metadata": {
    "collapsed": false,
    "ExecuteTime": {
     "end_time": "2024-02-18T17:00:27.835628Z",
     "start_time": "2024-02-18T17:00:27.833611Z"
    }
   },
   "id": "f87f1d4983e05589"
  },
  {
   "cell_type": "code",
   "execution_count": 112,
   "outputs": [],
   "source": [
    "# Values to filter out\n",
    "values_to_filter = ['Error', 'Loos alarm goed bedoeld', 'Kwaadwillig', 'Geannuleerde rit', 'Kwaadwillige oproep']\n",
    "\n",
    "# Filtering out rows with specified values\n",
    "interventions_ca = interventions_ca[~interventions_ca['abandon_reason'].isin(values_to_filter)]\n",
    "\n",
    "# interventions_ca.to_csv('/Users/ouharuhua/Desktop/Datathon_2024/Processed/interventions_ca.csv', index=False)"
   ],
   "metadata": {
    "collapsed": false,
    "ExecuteTime": {
     "end_time": "2024-02-18T17:00:27.841390Z",
     "start_time": "2024-02-18T17:00:27.837231Z"
    }
   },
   "id": "d90f2ca4ffadf2f2"
  },
  {
   "cell_type": "code",
   "execution_count": 113,
   "outputs": [
    {
     "data": {
      "text/plain": "abandon_reason\nOverleden                2551\nGeannuleerd                81\nDood Ter Plaatse           28\nWeigering van vervoer      25\nZonder patient             23\nVervoerd door derden       18\nVerzorgd ter plaatse       13\nVervoerd door politie      10\nVervoer door derden         1\nName: count, dtype: int64"
     },
     "execution_count": 113,
     "metadata": {},
     "output_type": "execute_result"
    }
   ],
   "source": [
    "# Count of each unique value in 'Column1'\n",
    "value_counts_abandon = interventions_ca['abandon_reason'].value_counts()\n",
    "\n",
    "value_counts_abandon"
   ],
   "metadata": {
    "collapsed": false,
    "ExecuteTime": {
     "end_time": "2024-02-18T17:00:27.845203Z",
     "start_time": "2024-02-18T17:00:27.842735Z"
    }
   },
   "id": "3de8435f7ed929ba"
  },
  {
   "cell_type": "code",
   "execution_count": 114,
   "outputs": [],
   "source": [
    "interventions_ca_geoloc = interventions_ca[columns_to_keep]\n",
    "interventions_ca_geoloc.to_csv('/Users/ouharuhua/Desktop/Datathon_2024/Processed/interventions_ca_geoloc.csv', index=False)"
   ],
   "metadata": {
    "collapsed": false,
    "ExecuteTime": {
     "end_time": "2024-02-18T17:00:27.889889Z",
     "start_time": "2024-02-18T17:00:27.846451Z"
    }
   },
   "id": "1d345ddfc620969a"
  },
  {
   "cell_type": "code",
   "execution_count": 115,
   "outputs": [
    {
     "data": {
      "text/plain": "         mission_id    t0_date  duration_t3-t0 eventtype_code eventlevel  \\\n891489  20222490200 2022-09-06             NaN           P003         N1   \n891599  20222500029 2022-09-07        8.720030           P003         N1   \n892271  20222510199 2022-09-08        8.786012           P003         N1   \n895559  20222590086 2022-09-16       10.747757           P003         N1   \n896060  20222600127 2022-09-17       11.051311           P003         N1   \n...             ...        ...             ...            ...        ...   \n488494  50221880328 2022-07-07        7.780883           P003         N1   \n489151  50221900122 2022-07-09       12.389167           P003         N1   \n489172  50221900209 2022-07-09       12.138483           P003         N5   \n489662  50221910287 2022-07-10        7.557850           P003         N1   \n489789  50221910483 2022-07-10       15.029300           P003         N1   \n\n       province_intervention postalcode_intervention  latitude_intervention  \\\n891489                   NaN                  1070.0               50.83808   \n891599                   NaN                  1050.0               50.82480   \n892271                   NaN                  1080.0               50.84948   \n895559                   NaN                  1150.0               50.83126   \n896060                   NaN                  1180.0               50.81547   \n...                      ...                     ...                    ...   \n488494                   HAI                    None               50.42360   \n489151                   HAI                    None               50.71304   \n489172                   HAI                    None               50.47807   \n489662                   HAI                    None               50.03854   \n489789                   HAI                    None               50.53594   \n\n        longitude_intervention abandon_reason  \n891489                 4.30484      Overleden  \n891599                 4.38185      Overleden  \n892271                 4.32034      Overleden  \n895559                 4.46485      Overleden  \n896060                 4.36499      Overleden  \n...                        ...            ...  \n488494                 4.42585      Overleden  \n489151                 3.57955      Overleden  \n489172                 3.64474      Overleden  \n489662                 4.26365      Overleden  \n489789                 4.24645      Overleden  \n\n[2551 rows x 10 columns]",
      "text/html": "<div>\n<style scoped>\n    .dataframe tbody tr th:only-of-type {\n        vertical-align: middle;\n    }\n\n    .dataframe tbody tr th {\n        vertical-align: top;\n    }\n\n    .dataframe thead th {\n        text-align: right;\n    }\n</style>\n<table border=\"1\" class=\"dataframe\">\n  <thead>\n    <tr style=\"text-align: right;\">\n      <th></th>\n      <th>mission_id</th>\n      <th>t0_date</th>\n      <th>duration_t3-t0</th>\n      <th>eventtype_code</th>\n      <th>eventlevel</th>\n      <th>province_intervention</th>\n      <th>postalcode_intervention</th>\n      <th>latitude_intervention</th>\n      <th>longitude_intervention</th>\n      <th>abandon_reason</th>\n    </tr>\n  </thead>\n  <tbody>\n    <tr>\n      <th>891489</th>\n      <td>20222490200</td>\n      <td>2022-09-06</td>\n      <td>NaN</td>\n      <td>P003</td>\n      <td>N1</td>\n      <td>NaN</td>\n      <td>1070.0</td>\n      <td>50.83808</td>\n      <td>4.30484</td>\n      <td>Overleden</td>\n    </tr>\n    <tr>\n      <th>891599</th>\n      <td>20222500029</td>\n      <td>2022-09-07</td>\n      <td>8.720030</td>\n      <td>P003</td>\n      <td>N1</td>\n      <td>NaN</td>\n      <td>1050.0</td>\n      <td>50.82480</td>\n      <td>4.38185</td>\n      <td>Overleden</td>\n    </tr>\n    <tr>\n      <th>892271</th>\n      <td>20222510199</td>\n      <td>2022-09-08</td>\n      <td>8.786012</td>\n      <td>P003</td>\n      <td>N1</td>\n      <td>NaN</td>\n      <td>1080.0</td>\n      <td>50.84948</td>\n      <td>4.32034</td>\n      <td>Overleden</td>\n    </tr>\n    <tr>\n      <th>895559</th>\n      <td>20222590086</td>\n      <td>2022-09-16</td>\n      <td>10.747757</td>\n      <td>P003</td>\n      <td>N1</td>\n      <td>NaN</td>\n      <td>1150.0</td>\n      <td>50.83126</td>\n      <td>4.46485</td>\n      <td>Overleden</td>\n    </tr>\n    <tr>\n      <th>896060</th>\n      <td>20222600127</td>\n      <td>2022-09-17</td>\n      <td>11.051311</td>\n      <td>P003</td>\n      <td>N1</td>\n      <td>NaN</td>\n      <td>1180.0</td>\n      <td>50.81547</td>\n      <td>4.36499</td>\n      <td>Overleden</td>\n    </tr>\n    <tr>\n      <th>...</th>\n      <td>...</td>\n      <td>...</td>\n      <td>...</td>\n      <td>...</td>\n      <td>...</td>\n      <td>...</td>\n      <td>...</td>\n      <td>...</td>\n      <td>...</td>\n      <td>...</td>\n    </tr>\n    <tr>\n      <th>488494</th>\n      <td>50221880328</td>\n      <td>2022-07-07</td>\n      <td>7.780883</td>\n      <td>P003</td>\n      <td>N1</td>\n      <td>HAI</td>\n      <td>None</td>\n      <td>50.42360</td>\n      <td>4.42585</td>\n      <td>Overleden</td>\n    </tr>\n    <tr>\n      <th>489151</th>\n      <td>50221900122</td>\n      <td>2022-07-09</td>\n      <td>12.389167</td>\n      <td>P003</td>\n      <td>N1</td>\n      <td>HAI</td>\n      <td>None</td>\n      <td>50.71304</td>\n      <td>3.57955</td>\n      <td>Overleden</td>\n    </tr>\n    <tr>\n      <th>489172</th>\n      <td>50221900209</td>\n      <td>2022-07-09</td>\n      <td>12.138483</td>\n      <td>P003</td>\n      <td>N5</td>\n      <td>HAI</td>\n      <td>None</td>\n      <td>50.47807</td>\n      <td>3.64474</td>\n      <td>Overleden</td>\n    </tr>\n    <tr>\n      <th>489662</th>\n      <td>50221910287</td>\n      <td>2022-07-10</td>\n      <td>7.557850</td>\n      <td>P003</td>\n      <td>N1</td>\n      <td>HAI</td>\n      <td>None</td>\n      <td>50.03854</td>\n      <td>4.26365</td>\n      <td>Overleden</td>\n    </tr>\n    <tr>\n      <th>489789</th>\n      <td>50221910483</td>\n      <td>2022-07-10</td>\n      <td>15.029300</td>\n      <td>P003</td>\n      <td>N1</td>\n      <td>HAI</td>\n      <td>None</td>\n      <td>50.53594</td>\n      <td>4.24645</td>\n      <td>Overleden</td>\n    </tr>\n  </tbody>\n</table>\n<p>2551 rows × 10 columns</p>\n</div>"
     },
     "execution_count": 115,
     "metadata": {},
     "output_type": "execute_result"
    }
   ],
   "source": [
    "# Assuming interventions is your DataFrame\n",
    "interventions_dead = interventions_ca[interventions_ca['abandon_reason'] == 'Overleden']\n",
    "interventions_dead"
   ],
   "metadata": {
    "collapsed": false,
    "ExecuteTime": {
     "end_time": "2024-02-18T17:00:27.898474Z",
     "start_time": "2024-02-18T17:00:27.890833Z"
    }
   },
   "id": "f92b5e58e49650c9"
  },
  {
   "cell_type": "code",
   "execution_count": 116,
   "outputs": [
    {
     "data": {
      "text/plain": "eventlevel\nN1     1459\nN0      499\nN5      424\nN2      163\nN6        5\nN7B       1\nName: count, dtype: int64"
     },
     "execution_count": 116,
     "metadata": {},
     "output_type": "execute_result"
    }
   ],
   "source": [
    "# Count of each unique value in 'Column1'\n",
    "value_counts_dead_level = interventions_dead['eventlevel'].value_counts()\n",
    "\n",
    "value_counts_dead_level # light level can also be dead if not handeled in time"
   ],
   "metadata": {
    "collapsed": false,
    "ExecuteTime": {
     "end_time": "2024-02-18T17:00:27.902867Z",
     "start_time": "2024-02-18T17:00:27.900262Z"
    }
   },
   "id": "22f898e234a2dee0"
  },
  {
   "cell_type": "code",
   "execution_count": 116,
   "outputs": [],
   "source": [],
   "metadata": {
    "collapsed": false,
    "ExecuteTime": {
     "end_time": "2024-02-18T17:00:27.904616Z",
     "start_time": "2024-02-18T17:00:27.903123Z"
    }
   },
   "id": "516602a8ce4c86e0"
  },
  {
   "cell_type": "markdown",
   "source": [],
   "metadata": {
    "collapsed": false
   },
   "id": "ade31b2c35ccb505"
  }
 ],
 "metadata": {
  "kernelspec": {
   "display_name": "Python 3",
   "language": "python",
   "name": "python3"
  },
  "language_info": {
   "codemirror_mode": {
    "name": "ipython",
    "version": 2
   },
   "file_extension": ".py",
   "mimetype": "text/x-python",
   "name": "python",
   "nbconvert_exporter": "python",
   "pygments_lexer": "ipython2",
   "version": "2.7.6"
  }
 },
 "nbformat": 4,
 "nbformat_minor": 5
}
